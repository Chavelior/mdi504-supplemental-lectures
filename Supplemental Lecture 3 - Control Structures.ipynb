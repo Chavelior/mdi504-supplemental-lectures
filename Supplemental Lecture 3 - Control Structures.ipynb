{
 "cells": [
  {
   "cell_type": "markdown",
   "metadata": {},
   "source": [
    "## Control Structures\n",
    "\n",
    "Control structures lets our program do things more complicated then execute a series of commands in serial. There are two main types of control structures\n",
    "\n",
    "1. Conditional control (`if-else`) - Let's you decide whether to execute code.\n",
    "2. Looping structure (`for` or `while`) - Let's you repeat code\n",
    "\n",
    "We've already seen examples of both of these in class, but let's formally introduce them now.\n",
    "\n",
    "See https://docs.python.org/3/tutorial/controlflow.html for more details beyond what is covered in this class.\n",
    "\n",
    "\n",
    "### Conditional Control\n",
    "\n",
    "The basic syntax for an `if` statement is:\n",
    "\n",
    "```\n",
    "if SOME BOOLEAN CONDITION:\n",
    "     # code to be executed if condition is true    \n",
    "\n",
    "# this code isn't inside the if statement. It will get executed regardless of the condition.\n",
    "```     \n",
    "\n",
    "Indentation is important. All the code that should only be executed if the condition is true should be indented.\n",
    "\n",
    "Here `SOME BOOLEAN CONDITION` is any Python expression that evaluates to either True or False. Some of the most basic **Boolean Expressions** are:\n",
    "\n",
    "1. Boolean variables\n",
    "2. Numerical comparisons using Boolean operators `==`, `>`, `>=`, `<`, `<=`\n",
    "3. A function call that returns a boolean value.\n",
    "\n",
    "(See http://thomas-cokelaer.info/tutorials/python/boolean.html for details on more complicated boolean expressions)."
   ]
  },
  {
   "cell_type": "code",
   "execution_count": 1,
   "metadata": {},
   "outputs": [
    {
     "name": "stdout",
     "output_type": "stream",
     "text": [
      "True\n",
      "Yes!\n"
     ]
    }
   ],
   "source": [
    "print(5>2)\n",
    "\n",
    "# Check if 5 is indeed bigger than 2:\n",
    "if 5 > 2:\n",
    "    print(\"Yes!\")"
   ]
  },
  {
   "cell_type": "markdown",
   "metadata": {},
   "source": [
    "#### Exercise (Bernoulli Trial)\n",
    "\n",
    "Fix $p = 0.7$. Pick a random number between [0,1] using the `numpy.random.random()` function. If this random number is smaller than $p$ print `Heads`. \n",
    "\n"
   ]
  },
  {
   "cell_type": "code",
   "execution_count": 5,
   "metadata": {},
   "outputs": [
    {
     "name": "stdout",
     "output_type": "stream",
     "text": [
      "0.36459441116191327\n",
      "Heads\n"
     ]
    }
   ],
   "source": [
    "# Exercise Solution Here:\n",
    "import numpy as np\n",
    "\n",
    "p = 0.7\n",
    "\n",
    "q = np.random.random()\n",
    "print(q)\n",
    "\n",
    "if q < p:\n",
    "    print(\"Heads\")"
   ]
  },
  {
   "cell_type": "markdown",
   "metadata": {},
   "source": [
    "An `if-else` statement allows you to specify an alternative set of code if the boolean condition fails (is False). The syntax is:\n",
    "\n",
    "```\n",
    "if SOME BOOLEAN CONDITION:\n",
    "    # code to be executed if condition is true\n",
    "else:\n",
    "    # code to be executed if condition is false\n",
    "    \n",
    "# this code isn't inside the if-else statement. It will get executed regardless of the condition.\n",
    "```"
   ]
  },
  {
   "cell_type": "code",
   "execution_count": 7,
   "metadata": {},
   "outputs": [
    {
     "name": "stdout",
     "output_type": "stream",
     "text": [
      "You have a long name\n"
     ]
    }
   ],
   "source": [
    "# See if my name is short or long\n",
    "name = \"Krijhkjhkjhkjhs\"\n",
    "\n",
    "if len(name) > 10:\n",
    "    print(\"You have a long name\")\n",
    "else:\n",
    "    print(\"You have a short name\")"
   ]
  },
  {
   "cell_type": "markdown",
   "metadata": {},
   "source": [
    "#### Exercise (Bernoulli Trial):\n",
    "Similar to the above exercise, but additionally print `Tails` if the sampled random number is bigger than $p$."
   ]
  },
  {
   "cell_type": "code",
   "execution_count": 8,
   "metadata": {},
   "outputs": [
    {
     "name": "stdout",
     "output_type": "stream",
     "text": [
      "0.19801416398695626\n",
      "Heads\n"
     ]
    }
   ],
   "source": [
    "# Exercise solution here\n",
    "# Exercise Solution Here:\n",
    "import numpy as np\n",
    "\n",
    "p = 0.7\n",
    "\n",
    "q = np.random.random()\n",
    "print(q)\n",
    "\n",
    "if q < p:\n",
    "    print(\"Heads\")\n",
    "else:\n",
    "    print(\"Tails\")"
   ]
  },
  {
   "cell_type": "markdown",
   "metadata": {},
   "source": [
    "A sequence of conditions to try, one after the other, can be done using the `if-elif-elif-...-else` sturcture. The basic syntax is:\n",
    "\n",
    "```\n",
    "if BOOLEAN CONDITION1:\n",
    "    # This code will be executed if CONDITION 1 is true\n",
    "    \n",
    "elif BOOLEAN CONDITION 2:\n",
    "    # This code will be executed if CONDITION 1 is false and CONDITION 2 is true\n",
    "\n",
    "elif BOOLEAN CONDITION 3:\n",
    "    # This code will be executed if CONDITION 1 and 2 are false, and CONDITION 3 is true\n",
    "    \n",
    "...\n",
    "\n",
    "elif BOOLEAN CONDITION N:\n",
    "    # This code will be executed if all past conditions were false and CONDITION N is true\n",
    "    \n",
    "else:\n",
    "    # This code will be executed if all of the conditions were false\n",
    "    \n",
    "```\n"
   ]
  },
  {
   "cell_type": "code",
   "execution_count": 11,
   "metadata": {},
   "outputs": [
    {
     "name": "stdout",
     "output_type": "stream",
     "text": [
      "Uh oh!\n"
     ]
    }
   ],
   "source": [
    "grade = \"lksdjf\"\n",
    "\n",
    "if grade == \"A\":\n",
    "    print(\"Great Job!\")\n",
    "elif grade == \"B\":\n",
    "    print(\"Good Job!\")\n",
    "elif grade == \"C\":\n",
    "    print(\"Please study more!\")\n",
    "else:\n",
    "    print(\"Uh oh!\")\n"
   ]
  },
  {
   "cell_type": "markdown",
   "metadata": {},
   "source": [
    "#### Exercise (An unfair die)\n",
    "\n",
    "Pick an **increasing** sequence of 5 numbers between 0 and 1. For example:\n",
    "\n",
    "$$p = (0.1, 0.3, 0.5, 0.75, 0.9)$$\n",
    "\n",
    "Call these numbers $p_1, p_2, p_3, p_4, p_5$.\n",
    "\n",
    "Pick a random number $U$ between 0 and 1. \n",
    "1. If $U$ is between 0 and the $p_1$ print \"1\"\n",
    "2. If $U$ is between $p_1$ and $p_2$ print \"2\"\n",
    "3. If $U$ is between $p_2$ and $p_3$ print \"3\"\n",
    "4. If $U$ is between $p_3$ and $p_4$ print \"4\"\n",
    "5. If $U$ is between $p_4$ and $p_5$ print \"5\"\n",
    "6. Otherwise print \"6\"\n",
    "\n",
    "\n",
    "(Note - this is a special case of sampling from a probability distribution using a $U[0,1]$ uniform random variable. The general technique to do this is called **inverse transform sampling**.)\n"
   ]
  },
  {
   "cell_type": "code",
   "execution_count": 14,
   "metadata": {},
   "outputs": [
    {
     "name": "stdout",
     "output_type": "stream",
     "text": [
      "1\n"
     ]
    }
   ],
   "source": [
    "p = [ 0.1, 0.3, 0.5, 0.75, 0.9]\n",
    "\n",
    "u = np.random.random()\n",
    "\n",
    "if u < p[0]:\n",
    "    print(\"1\")\n",
    "elif u < p[1]:\n",
    "    print(\"2\")   \n",
    "elif u < p[2]:\n",
    "    print(\"3\") \n",
    "elif u < p[3]:\n",
    "    print(\"4\") \n",
    "elif u < p[4]:\n",
    "    print(\"5\") \n",
    "else:\n",
    "    print(\"6\")\n"
   ]
  },
  {
   "cell_type": "markdown",
   "metadata": {},
   "source": [
    "### Looping Structures\n",
    "\n",
    "Looping lets us repeat commands several times. This can be done with the `for` loop in Python, which has the syntax:\n",
    "\n",
    "```\n",
    "\n",
    "for x in ITERABLE:\n",
    "    # code here is repeated\n",
    "\n",
    "```\n",
    "\n",
    "Here ITERABLE is a stand in for an iterable sequence of things. The variable `x` represents an element in this sequence, and changes for every iteration of the loop. The loop iterates over everything in ITERABLE. There is nothing special about the use of the variable name `x`. You can name it whatever you want.\n",
    "\n",
    "Here's an example of using a `range` to iterate over the numbers from 0 to 9:"
   ]
  },
  {
   "cell_type": "code",
   "execution_count": 16,
   "metadata": {},
   "outputs": [
    {
     "name": "stdout",
     "output_type": "stream",
     "text": [
      "range(0, 10)\n",
      "0\n",
      "1\n",
      "2\n",
      "3\n",
      "4\n",
      "5\n",
      "6\n",
      "7\n",
      "8\n",
      "9\n"
     ]
    }
   ],
   "source": [
    "for i in range(10):\n",
    "    print(i)"
   ]
  },
  {
   "cell_type": "markdown",
   "metadata": {},
   "source": [
    "Observe a few things:\n",
    "1. We print the variable `i` inside the loop. Each time the loop iterates, the value of `i` changes.\n",
    "2. Here `range(10)` is an object that represents the numbers 0, 1, 2, ..., 9. In general, `range(n)` represents the numbers 0, 1, ..., n-1.\n",
    "\n",
    "\n",
    "It's important to note that `range(10)` is a Python object. You can assign it to a variable if you wanted.\n"
   ]
  },
  {
   "cell_type": "code",
   "execution_count": 17,
   "metadata": {},
   "outputs": [
    {
     "name": "stdout",
     "output_type": "stream",
     "text": [
      "range(0, 10)\n",
      "<class 'range'>\n"
     ]
    }
   ],
   "source": [
    "i_vals = range(10)\n",
    "\n",
    "print(i_vals)\n",
    "print(type(i_vals))"
   ]
  },
  {
   "cell_type": "markdown",
   "metadata": {},
   "source": [
    "You don't have to range from 0 to n-1, stepping by 1. You can call `range(a, b, d)` which represents the sequence of numbers starting at `a`, and increasing by `d` until you get to something that greater than or equals `b`."
   ]
  },
  {
   "cell_type": "code",
   "execution_count": 18,
   "metadata": {},
   "outputs": [
    {
     "name": "stdout",
     "output_type": "stream",
     "text": [
      "3\n",
      "6\n",
      "9\n",
      "12\n"
     ]
    }
   ],
   "source": [
    "for x in range (3, 14, 3):\n",
    "    print(x)"
   ]
  },
  {
   "cell_type": "markdown",
   "metadata": {},
   "source": [
    "#### Exercise (Fizz Buzz)\n",
    "\n",
    "Print the numbers 1 through 100, except:\n",
    "1. print \"Fizz\" if the number is divisible by 3, \n",
    "2. print \"Buzz\" if the number is divisible by 5,\n",
    "3. print \"FizzBuzz\" if the number is divisible by 3 and 5.\n",
    "\n",
    "You may want to use the `%` operator: for 2 numbers `x` and `y`, `x%y` is the remainder of the division of `x` by `y`. In particular if `x` is divisible by `y`, then `x%y == 0`.\n",
    "\n",
    "\n",
    "You *may* want to know that to not print a new line after `print` statement, you can say:\n",
    "```\n",
    "print(\"hello\", end=\"\")\n",
    "```"
   ]
  },
  {
   "cell_type": "code",
   "execution_count": 25,
   "metadata": {},
   "outputs": [
    {
     "name": "stdout",
     "output_type": "stream",
     "text": [
      "1\n",
      "2\n",
      "Fizz\n",
      "4\n",
      "Buzz\n",
      "Fizz\n",
      "7\n",
      "8\n",
      "Fizz\n",
      "Buzz\n",
      "11\n",
      "Fizz\n",
      "13\n",
      "14\n",
      "FizzBuzz\n",
      "16\n",
      "17\n",
      "Fizz\n",
      "19\n",
      "Buzz\n",
      "Fizz\n",
      "22\n",
      "23\n",
      "Fizz\n",
      "Buzz\n",
      "26\n",
      "Fizz\n",
      "28\n",
      "29\n",
      "FizzBuzz\n",
      "31\n",
      "32\n",
      "Fizz\n",
      "34\n",
      "Buzz\n",
      "Fizz\n",
      "37\n",
      "38\n",
      "Fizz\n",
      "Buzz\n",
      "41\n",
      "Fizz\n",
      "43\n",
      "44\n",
      "FizzBuzz\n",
      "46\n",
      "47\n",
      "Fizz\n",
      "49\n",
      "Buzz\n",
      "Fizz\n",
      "52\n",
      "53\n",
      "Fizz\n",
      "Buzz\n",
      "56\n",
      "Fizz\n",
      "58\n",
      "59\n",
      "FizzBuzz\n",
      "61\n",
      "62\n",
      "Fizz\n",
      "64\n",
      "Buzz\n",
      "Fizz\n",
      "67\n",
      "68\n",
      "Fizz\n",
      "Buzz\n",
      "71\n",
      "Fizz\n",
      "73\n",
      "74\n",
      "FizzBuzz\n",
      "76\n",
      "77\n",
      "Fizz\n",
      "79\n",
      "Buzz\n",
      "Fizz\n",
      "82\n",
      "83\n",
      "Fizz\n",
      "Buzz\n",
      "86\n",
      "Fizz\n",
      "88\n",
      "89\n",
      "FizzBuzz\n",
      "91\n",
      "92\n",
      "Fizz\n",
      "94\n",
      "Buzz\n",
      "Fizz\n",
      "97\n",
      "98\n",
      "Fizz\n",
      "Buzz\n"
     ]
    }
   ],
   "source": [
    "for x in range(1, 101):\n",
    "    \n",
    "    if(x%3 == 0):\n",
    "        print(\"Fizz\", end=\"\")\n",
    "    if(x%5 == 0):\n",
    "        print(\"Buzz\", end=\"\")\n",
    "    if not((x%3==0) or (x%5==0)):\n",
    "        print(x, end=\"\")\n",
    "        \n",
    "    print()"
   ]
  },
  {
   "cell_type": "markdown",
   "metadata": {},
   "source": [
    "Other types of iterable objects include lists, numpy arrays and the result from `numpy.linspace` and `numpy.arange`"
   ]
  },
  {
   "cell_type": "code",
   "execution_count": 26,
   "metadata": {},
   "outputs": [
    {
     "name": "stdout",
     "output_type": "stream",
     "text": [
      "0\n",
      "4\n",
      "-5\n",
      "2\n",
      "-2\n",
      "3\n",
      "my_sum = 2\n"
     ]
    }
   ],
   "source": [
    "# This is an example of summing over entries in a list\n",
    "my_list = [0, 4, -5, 2, -2, 3]\n",
    "\n",
    "# Starting at 0, add elements from my_list one element at a time\n",
    "my_sum = 0\n",
    "for x in my_list:\n",
    "    print(x)\n",
    "    # add list element to running sum\n",
    "    my_sum = my_sum + x\n",
    "    \n",
    "print(\"my_sum = \" + str(my_sum))"
   ]
  },
  {
   "cell_type": "code",
   "execution_count": 27,
   "metadata": {},
   "outputs": [
    {
     "name": "stdout",
     "output_type": "stream",
     "text": [
      "3.0\n",
      "5.5\n",
      "8.0\n",
      "10.5\n",
      "13.0\n"
     ]
    }
   ],
   "source": [
    "# numpy.arange is like range, but can step by non-integer amounts. range cannot\n",
    "import numpy as np\n",
    "\n",
    "for x in np.arange(3, 14, 2.5):\n",
    "    print(x)"
   ]
  },
  {
   "cell_type": "code",
   "execution_count": 28,
   "metadata": {},
   "outputs": [
    {
     "name": "stdout",
     "output_type": "stream",
     "text": [
      "3.0\n",
      "3.5\n",
      "4.0\n"
     ]
    }
   ],
   "source": [
    "# numpy.linspace is similar to numpy.arange and range, but instead \n",
    "# of specifying the step-size, you specify the number of steps\n",
    "\n",
    "for x in np.linspace(3, 4, 3):\n",
    "    print(x)"
   ]
  },
  {
   "cell_type": "markdown",
   "metadata": {},
   "source": [
    "Another special example of an iterable object is the `enumerate` type. Enumerate takes another iterable object representing a sequence of things \n",
    "\n",
    "`x_1, ..., x_N`, \n",
    "\n",
    "and represents it as pairs `(i, x_i)`. This is useful for coordinating between different lists.\n"
   ]
  },
  {
   "cell_type": "code",
   "execution_count": 29,
   "metadata": {
    "scrolled": true
   },
   "outputs": [
    {
     "name": "stdout",
     "output_type": "stream",
     "text": [
      "i = 0, x = 1.0\n",
      "i = 1, x = 1.4285714285714286\n",
      "i = 2, x = 1.8571428571428572\n",
      "i = 3, x = 2.2857142857142856\n",
      "i = 4, x = 2.7142857142857144\n",
      "i = 5, x = 3.142857142857143\n",
      "i = 6, x = 3.571428571428571\n",
      "i = 7, x = 4.0\n",
      "i = 8, x = 4.428571428571429\n",
      "i = 9, x = 4.857142857142857\n",
      "i = 10, x = 5.285714285714286\n",
      "i = 11, x = 5.714285714285714\n",
      "i = 12, x = 6.142857142857142\n",
      "i = 13, x = 6.571428571428571\n",
      "i = 14, x = 7.0\n"
     ]
    }
   ],
   "source": [
    "# make an iterable object, in this case using np.linspace\n",
    "x_arr = np.linspace(1, 7, 15)\n",
    "\n",
    "# iterate over pairs from enumerate\n",
    "for pair in enumerate(x_arr):\n",
    "    # iterating over enumerate yields pairs (i, x)\n",
    "    # get the first element of the pair\n",
    "    i = pair[0]\n",
    "    # get the second element of the pair\n",
    "    x = pair[1]\n",
    "    \n",
    "    print(\"i = \" + str(i) + \", x = \" + str(x))\n",
    "    "
   ]
  },
  {
   "cell_type": "markdown",
   "metadata": {},
   "source": [
    "In fact, extracting `i` and `x` using `i = pair[0]`, and `x = pair[1]` (called unpacking) is not necessary because python has automatic unpacking:"
   ]
  },
  {
   "cell_type": "code",
   "execution_count": 30,
   "metadata": {},
   "outputs": [
    {
     "name": "stdout",
     "output_type": "stream",
     "text": [
      "i = 0, x = 1.0\n",
      "i = 1, x = 1.4285714285714286\n",
      "i = 2, x = 1.8571428571428572\n",
      "i = 3, x = 2.2857142857142856\n",
      "i = 4, x = 2.7142857142857144\n",
      "i = 5, x = 3.142857142857143\n",
      "i = 6, x = 3.571428571428571\n",
      "i = 7, x = 4.0\n",
      "i = 8, x = 4.428571428571429\n",
      "i = 9, x = 4.857142857142857\n",
      "i = 10, x = 5.285714285714286\n",
      "i = 11, x = 5.714285714285714\n",
      "i = 12, x = 6.142857142857142\n",
      "i = 13, x = 6.571428571428571\n",
      "i = 14, x = 7.0\n"
     ]
    }
   ],
   "source": [
    "# make an iterable object, in this case using np.linspace\n",
    "x_arr = np.linspace(1, 7, 15)\n",
    "\n",
    "# iterate over pairs from enumerate\n",
    "for i,x in enumerate(x_arr):  \n",
    "    print(\"i = \" + str(i) + \", x = \" + str(x))"
   ]
  },
  {
   "cell_type": "markdown",
   "metadata": {},
   "source": [
    "We can use this index `i` to coordinate betwen different arrays:"
   ]
  },
  {
   "cell_type": "code",
   "execution_count": 31,
   "metadata": {},
   "outputs": [
    {
     "name": "stdout",
     "output_type": "stream",
     "text": [
      "[5, 15, -20]\n"
     ]
    }
   ],
   "source": [
    "# make an iterable object, in this case a list\n",
    "theta = [1, 3, -4]\n",
    "\n",
    "# make another list that is the same size as theta\n",
    "five_theta = [0]*len(theta)\n",
    "\n",
    "# five_theta = [0, 0, 0]\n",
    "\n",
    "# iterate over pairs from enumerate\n",
    "for i,t in enumerate(theta):  \n",
    "    five_theta[i] = 5*t\n",
    "    \n",
    "print(five_theta)"
   ]
  },
  {
   "cell_type": "markdown",
   "metadata": {},
   "source": [
    "Later we'll talk about a better, more \"Pythonic\" way to do what we did above."
   ]
  },
  {
   "cell_type": "markdown",
   "metadata": {},
   "source": [
    "#### Exercise (Polynomial Evaluation)\n",
    "\n",
    "A polynomial is defined as\n",
    "\n",
    "$$ f(x) = \\theta_0 + \\theta_1 x + \\theta_2 x^2, + ... + \\theta_n x^n. $$\n",
    "\n",
    "Write a function `poly_eval` that takes in a number `x` and a list of numbers `theta` and returns the evaluation of the polynomial with coefficients `theta` evaluated at `x`."
   ]
  },
  {
   "cell_type": "code",
   "execution_count": 33,
   "metadata": {},
   "outputs": [
    {
     "name": "stdout",
     "output_type": "stream",
     "text": [
      "1.8320000000000003\n"
     ]
    }
   ],
   "source": [
    "# Exercise code here\n",
    "\n",
    "def poly_eval(x, theta):\n",
    "    sum = 0\n",
    "    \n",
    "    for i, theta_i in enumerate(theta):\n",
    "        sum = sum + theta_i * x**i\n",
    "        \n",
    "    return sum\n",
    "        \n",
    "\n",
    "val = poly_eval(3.2, [1, 0.1, 0.05])\n",
    "print(val)"
   ]
  },
  {
   "cell_type": "markdown",
   "metadata": {},
   "source": [
    "### Optional Homework \n",
    "\n",
    "Recall that the number $H$ of heads after $n$ flips of a biased coin (with probability $p$ for heads) is a Binomial random variable with probability $p$.\n",
    "\n",
    "In this problem, we will simulate the distribution. Write a function `sim_binom` that takes in the following arguments:\n",
    "\n",
    "1. The parameters `n`, `p` to the binomial distribution.\n",
    "\n",
    "2. A number `m` describing how many simulations to do.\n",
    "\n",
    "** Part 1: **\n",
    "In the function, flip a biased coin `n` times such that the probability of getting a head is `p`. Count how many heads you get and save that count. Repeat this `m` times to get `m` instances `H_1, ..., H_m`. Plot the histogram of these values.\n",
    "\n",
    "** Part 2: **\n",
    "If $X_i = 0$ if tails and $X_i = 1$ if heads represents the outcome of the $i$-th coin flip, observe that $H = \\sum_{i=1}^n X_i$. That is, $H$ is the sum of several $iid$ random variables, and so we can invoke the **Central Limit Theorem** to say that the distribution of $H$ is approximately Normal, with some mean and variance. What is the mean and variance of this approximatin Normal distribution?\n",
    "\n",
    "\n",
    "** Part 3: **\n",
    "Instead of \"heads\" and \"tails\", we can use the words \"step right\" and \"step left\" to describe the outcome of the Bernoulli trial. If we further let $X_i = -1$ if \"step left\" and $X_i = 1$ if \"step right\", what does the quantity $H = \\sum_{i=1}^n X_i$ represent? What is the approximating Normal distribution for this case?\n"
   ]
  },
  {
   "cell_type": "code",
   "execution_count": null,
   "metadata": {},
   "outputs": [],
   "source": []
  }
 ],
 "metadata": {
  "kernelspec": {
   "display_name": "Python 3",
   "language": "python",
   "name": "python3"
  },
  "language_info": {
   "codemirror_mode": {
    "name": "ipython",
    "version": 3
   },
   "file_extension": ".py",
   "mimetype": "text/x-python",
   "name": "python",
   "nbconvert_exporter": "python",
   "pygments_lexer": "ipython3",
   "version": "3.6.5"
  }
 },
 "nbformat": 4,
 "nbformat_minor": 2
}
