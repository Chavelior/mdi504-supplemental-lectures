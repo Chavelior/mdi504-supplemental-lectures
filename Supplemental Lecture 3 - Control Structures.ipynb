{
 "cells": [
  {
   "cell_type": "markdown",
   "metadata": {},
   "source": [
    "## Control Structures\n",
    "\n",
    "Control structures lets our program do things more complicated then execute a series of commands in serial. There are two main types of control structures\n",
    "\n",
    "1. Conditional control (`if-else`) - Let's you decide whether to execute code.\n",
    "2. Looping structure (`for` or `while`) - Let's you repeat code\n",
    "\n",
    "We've already seen examples of both of these in class, but let's formally introduce them now.\n",
    "\n",
    "See https://docs.python.org/3/tutorial/controlflow.html for more details beyond what is covered in this class.\n",
    "\n",
    "\n",
    "### Conditional Control\n",
    "\n",
    "The basic syntax for an `if` statement is:\n",
    "\n",
    "```\n",
    "if SOME BOOLEAN CONDITION:\n",
    "     # code to be executed if condition is true    \n",
    "\n",
    "# this code isn't inside the if statement. It will get executed regardless of the condition.\n",
    "```     \n",
    "\n",
    "Indentation is important. All the code that should only be executed if the condition is true should be indented.\n",
    "\n",
    "Here `SOME BOOLEAN CONDITION` is any Python expression that evaluates to either True or False. Some of the most basic **Boolean Expressions** are:\n",
    "\n",
    "1. Boolean variables\n",
    "2. Numerical comparisons using Boolean operators `==`, `>`, `>=`, `<`, `<=`\n",
    "3. A function call that returns a boolean value.\n",
    "\n",
    "(See http://thomas-cokelaer.info/tutorials/python/boolean.html for details on more complicated boolean expressions)."
   ]
  },
  {
   "cell_type": "code",
   "execution_count": null,
   "metadata": {},
   "outputs": [],
   "source": [
    "# Check if 5 is indeed bigger than 2:\n",
    "if 5 > 2:\n",
    "    print(\"Yes!\")"
   ]
  },
  {
   "cell_type": "markdown",
   "metadata": {},
   "source": [
    "#### Exercise (Bernoulli Trial)\n",
    "\n",
    "Fix $p = 0.7$. Pick a random number between [0,1] using the `numpy.random.random()` function. If this random number is smaller than $p$ print `Heads`. \n",
    "\n"
   ]
  },
  {
   "cell_type": "code",
   "execution_count": null,
   "metadata": {},
   "outputs": [],
   "source": [
    "# Exercise Solution Here:\n"
   ]
  },
  {
   "cell_type": "markdown",
   "metadata": {},
   "source": [
    "An `if-else` statement allows you to specify an alternative set of code if the boolean condition fails (is False). The syntax is:\n",
    "\n",
    "```\n",
    "if SOME BOOLEAN CONDITION:\n",
    "    # code to be executed if condition is true\n",
    "else:\n",
    "    # code to be executed if condition is false\n",
    "    \n",
    "# this code isn't inside the if-else statement. It will get executed regardless of the condition.\n",
    "```"
   ]
  },
  {
   "cell_type": "code",
   "execution_count": null,
   "metadata": {},
   "outputs": [],
   "source": [
    "# See if my name is short or long\n",
    "name = \"Kris\"\n",
    "\n",
    "if len(name) > 10:\n",
    "    print(\"You have a long name\")\n",
    "else:\n",
    "    print(\"You have a short name\")"
   ]
  },
  {
   "cell_type": "markdown",
   "metadata": {},
   "source": [
    "#### Exercise (Bernoulli Trial):\n",
    "Similar to the above exercise, but additionally print `Tails` if the sampled random number is bigger than $p$."
   ]
  },
  {
   "cell_type": "code",
   "execution_count": null,
   "metadata": {},
   "outputs": [],
   "source": [
    "# Exercise solution here"
   ]
  },
  {
   "cell_type": "markdown",
   "metadata": {},
   "source": [
    "A sequence of conditions to try, one after the other, can be done using the `if-elif-elif-...-else` sturcture. The basic syntax is:\n",
    "\n",
    "```\n",
    "if BOOLEAN CONDITION1:\n",
    "    # This code will be executed if CONDITION 1 is true\n",
    "    \n",
    "elif BOOLEAN CONDITION 2:\n",
    "    # This code will be executed if CONDITION 1 is false and CONDITION 2 is true\n",
    "\n",
    "elif BOOLEAN CONDITION 3:\n",
    "    # This code will be executed if CONDITION 1 and 2 are false, and CONDITION 3 is true\n",
    "    \n",
    "...\n",
    "\n",
    "elif BOOLEAN CONDITION N:\n",
    "    # This code will be executed if all past conditions were false and CONDITION N is true\n",
    "    \n",
    "else:\n",
    "    # This code will be executed if all of the conditions were false\n",
    "    \n",
    "```\n"
   ]
  },
  {
   "cell_type": "code",
   "execution_count": null,
   "metadata": {},
   "outputs": [],
   "source": [
    "grade = \"C\"\n",
    "\n",
    "if grade == \"A\":\n",
    "    print(\"Great Job!\")\n",
    "elif grade == \"B\":\n",
    "    print(\"Good Job!\")\n",
    "elif grade == \"C\":\n",
    "    print(\"Please study more!\")\n",
    "else:\n",
    "    print(\"Uh oh!\")\n"
   ]
  },
  {
   "cell_type": "markdown",
   "metadata": {},
   "source": [
    "#### Exercise (An unfair die)\n",
    "\n",
    "Pick an **increasing** sequence of 5 numbers between 0 and 1. For example:\n",
    "\n",
    "$$p = (0.1, 0.3, 0.5, 0.75, 0.9)$$\n",
    "\n",
    "Call these numbers $p_1, p_2, p_3, p_4, p_5$.\n",
    "\n",
    "Pick a random number $U$ between 0 and 1. \n",
    "1. If $U$ is between 0 and the $p_1$ print \"1\"\n",
    "2. If $U$ is between $p_1$ and $p_2$ print \"2\"\n",
    "3. If $U$ is between $p_2$ and $p_3$ print \"3\"\n",
    "4. If $U$ is between $p_3$ and $p_4$ print \"4\"\n",
    "5. If $U$ is between $p_4$ and $p_5$ print \"5\"\n",
    "6. Otherwise print \"6\"\n",
    "\n",
    "\n",
    "(Note - this is a special case of sampling from a probability distribution using a $U[0,1]$ uniform random variable. The general technique to do this is called **inverse transform sampling**.)\n"
   ]
  },
  {
   "cell_type": "markdown",
   "metadata": {},
   "source": [
    "### Looping Structures\n",
    "\n",
    "Looping lets us repeat commands several times. This can be done with the `for` loop in Python, which has the syntax:\n",
    "\n",
    "```\n",
    "\n",
    "for x in ITERABLE:\n",
    "    # code here is repeated\n",
    "\n",
    "```\n",
    "\n",
    "Here ITERABLE is a stand in for an iterable sequence of things. The variable `x` represents an element in this sequence, and changes for every iteration of the loop. The loop iterates over everything in ITERABLE. There is nothing special about the use of the variable name `x`. You can name it whatever you want.\n",
    "\n",
    "Here's an example of using a `range` to iterate over the numbers from 1 to 10:"
   ]
  },
  {
   "cell_type": "code",
   "execution_count": null,
   "metadata": {},
   "outputs": [],
   "source": [
    "for i in range(10):\n",
    "    print(i)"
   ]
  },
  {
   "cell_type": "markdown",
   "metadata": {},
   "source": [
    "Observe a few things:\n",
    "1. We print the variable `i` inside the loop. Each time the loop iterates, the value of `i` changes.\n",
    "2. Here `range(10)` is an object that represents the numbers 0, 1, 2, ..., 9. In general, `range(n)` represents the numbers 0, 1, ..., n-1.\n",
    "\n",
    "\n",
    "It's important to note that `range(10)` is a Python object. You can assign it to a variable if you wanted.\n"
   ]
  },
  {
   "cell_type": "code",
   "execution_count": null,
   "metadata": {},
   "outputs": [],
   "source": [
    "i_vals = range(10)\n",
    "\n",
    "print(i_vals)\n",
    "print(type(i_vals))"
   ]
  },
  {
   "cell_type": "markdown",
   "metadata": {},
   "source": [
    "You don't have to range from 0 to n-1, stepping by 1. You can call `range(a, b, d)` which represents the sequence of numbers starting at `a`, and increasing by `d` until you get to something that greater than or equals `b`."
   ]
  },
  {
   "cell_type": "code",
   "execution_count": null,
   "metadata": {},
   "outputs": [],
   "source": [
    "for x in range (3, 14, 3):\n",
    "    print(x)"
   ]
  },
  {
   "cell_type": "markdown",
   "metadata": {},
   "source": [
    "#### Exercise (Fizz Buzz)\n",
    "\n",
    "Print the numbers 1 through 100, except:\n",
    "1. print \"Fizz\" if the number is divisible by 3, \n",
    "2. print \"Buzz\" if the number is divisible by 5,\n",
    "3. print \"FizzBuzz\" if the number is divisible by 3 and 5.\n",
    "\n",
    "You may want to use the `%` operator: for 2 numbers `x` and `y`, `x%y` is the remainder of the division of `x` by `y`. In particular if `x` is divisible by `y`, then `x%y == 0`."
   ]
  },
  {
   "cell_type": "markdown",
   "metadata": {},
   "source": [
    "Other types of iterable objects include lists, numpy arrays and the result from `numpy.linspace` and `numpy.arange`"
   ]
  },
  {
   "cell_type": "code",
   "execution_count": null,
   "metadata": {},
   "outputs": [],
   "source": [
    "# This is an example of summing over entries in a list\n",
    "my_list = [0, 4, -5, 2, -2, 3]\n",
    "\n",
    "# Starting at 0, add elements from my_list one element at a time\n",
    "my_sum = 0\n",
    "for x in my_list:\n",
    "    print(x)\n",
    "    # add list element to running sum\n",
    "    my_sum = my_sum + x\n",
    "    \n",
    "print(\"my_sum = \" + str(my_sum))"
   ]
  },
  {
   "cell_type": "code",
   "execution_count": null,
   "metadata": {},
   "outputs": [],
   "source": [
    "# numpy.arange is like range, but can step by non-integer amounts. range cannot\n",
    "import numpy as np\n",
    "\n",
    "for x in np.arange(3, 14, 2.5):\n",
    "    print(x)"
   ]
  },
  {
   "cell_type": "code",
   "execution_count": null,
   "metadata": {},
   "outputs": [],
   "source": [
    "# numpy.linspace is similar to numpy.arange and range, but instead \n",
    "# of specifying the step-size, you specify the number of steps\n",
    "\n",
    "for x in np.linspace(3, 4, 3):\n",
    "    print(x)"
   ]
  },
  {
   "cell_type": "markdown",
   "metadata": {},
   "source": [
    "Another special example of an iterable object is the `enumerate` type. Enumerate takes another iterable object representing a sequence of things \n",
    "\n",
    "`x_1, ..., x_N`, \n",
    "\n",
    "and represents it as pairs `(i, x_i)`. This is useful for coordinating between different lists.\n"
   ]
  },
  {
   "cell_type": "code",
   "execution_count": null,
   "metadata": {
    "scrolled": true
   },
   "outputs": [],
   "source": [
    "# make an iterable object, in this case using np.linspace\n",
    "x_arr = np.linspace(1, 7, 15)\n",
    "\n",
    "# iterate over pairs from enumerate\n",
    "for pair in enumerate(x_arr):\n",
    "    # iterating over enumerate yields pairs (i, x)\n",
    "    # get the first element of the pair\n",
    "    i = pair[0]\n",
    "    # get the second element of the pair\n",
    "    x = pair[1]\n",
    "    \n",
    "    print(\"i = \" + str(i) + \", x = \" + str(x))\n",
    "    "
   ]
  },
  {
   "cell_type": "markdown",
   "metadata": {},
   "source": [
    "In fact, extracting `i` and `x` using `i = pair[0]`, and `x = pair[1]` (called unpacking) is not necessary because python has automatic unpacking:"
   ]
  },
  {
   "cell_type": "code",
   "execution_count": null,
   "metadata": {},
   "outputs": [],
   "source": [
    "# make an iterable object, in this case using np.linspace\n",
    "x_arr = np.linspace(1, 7, 15)\n",
    "\n",
    "# iterate over pairs from enumerate\n",
    "for i,x in enumerate(x_arr):  \n",
    "    print(\"i = \" + str(i) + \", x = \" + str(x))"
   ]
  },
  {
   "cell_type": "markdown",
   "metadata": {},
   "source": [
    "We can use this index `i` to coordinate betwen different arrays:"
   ]
  },
  {
   "cell_type": "code",
   "execution_count": null,
   "metadata": {},
   "outputs": [],
   "source": [
    "# make an iterable object, in this case a list\n",
    "theta = [1, 3, -4]\n",
    "\n",
    "# make another list that is the same size as theta\n",
    "five_theta = [0]*len(theta)\n",
    "\n",
    "# iterate over pairs from enumerate\n",
    "for i,t in enumerate(theta):  \n",
    "    five_theta[i] = 5*t\n",
    "    \n",
    "print(five_theta)"
   ]
  },
  {
   "cell_type": "markdown",
   "metadata": {},
   "source": [
    "Later we'll talk about a better, more \"Pythonic\" way to do what we did above."
   ]
  },
  {
   "cell_type": "markdown",
   "metadata": {},
   "source": [
    "#### Exercise (Polynomial Evaluation)\n",
    "\n",
    "A polynomial is defined as\n",
    "\n",
    "$$ f(x) = \\theta_0 + \\theta_1 x + \\theta_2 x^2, + ... + \\theta_n x^n. $$\n",
    "\n",
    "Write a function `poly_eval` that takes in a number `x` and a list of numbers `theta` and returns the evaluation of the polynomial with coefficients `theta` evaluated at `x`."
   ]
  },
  {
   "cell_type": "code",
   "execution_count": null,
   "metadata": {},
   "outputs": [],
   "source": [
    "# Exercise code here\n",
    "\n",
    "def poly_eval(x, theta):\n",
    "    # code goes here"
   ]
  },
  {
   "cell_type": "markdown",
   "metadata": {},
   "source": [
    "### Optional Homework \n",
    "\n",
    "Recall that the number $H$ of heads after $n$ flips of a biased coin (with probability $p$ for heads) is a Binomial random variable with probability $p$.\n",
    "\n",
    "In this problem, we will simulate the distribution. Write a function `sim_binom` that takes in the following arguments:\n",
    "\n",
    "1. The parameters `n`, `p` to the binomial distribution.\n",
    "\n",
    "2. A number `m` describing how many simulations to do.\n",
    "\n",
    "** Part 1: **\n",
    "In the function, flip a biased coin `n` times such that the probability of getting a head is `p`. Count how many heads you get and save that count. Repeat this `m` times to get `m` instances `H_1, ..., H_m`. Plot the histogram of these values.\n",
    "\n",
    "** Part 2: **\n",
    "If $X_i = 0$ if tails and $X_i = 1$ if heads represents the outcome of the $i$-th coin flip, observe that $H = \\sum_{i=1}^n X_i$. That is, $H$ is the sum of several $iid$ random variables, and so we can invoke the **Central Limit Theorem** to say that the distribution of $H$ is approximately Normal, with some mean and variance. What is the mean and variance of this approximatin Normal distribution?\n",
    "\n",
    "\n",
    "** Part 3: **\n",
    "Instead of \"heads\" and \"tails\", we can use the words \"step right\" and \"step left\" to describe the outcome of the Bernoulli trial. If we further let $X_i = -1$ if \"step left\" and $X_i = 1$ if \"step right\", what does the quantity $H = \\sum_{i=1}^n X_i$ represent? What is the approximating Normal distribution for this case?\n"
   ]
  },
  {
   "cell_type": "code",
   "execution_count": null,
   "metadata": {},
   "outputs": [],
   "source": []
  }
 ],
 "metadata": {
  "kernelspec": {
   "display_name": "Python 3",
   "language": "python",
   "name": "python3"
  },
  "language_info": {
   "codemirror_mode": {
    "name": "ipython",
    "version": 3
   },
   "file_extension": ".py",
   "mimetype": "text/x-python",
   "name": "python",
   "nbconvert_exporter": "python",
   "pygments_lexer": "ipython3",
   "version": "3.6.5"
  }
 },
 "nbformat": 4,
 "nbformat_minor": 2
}
