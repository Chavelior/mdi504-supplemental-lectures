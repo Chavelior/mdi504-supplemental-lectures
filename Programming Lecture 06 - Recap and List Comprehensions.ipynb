{
 "cells": [
  {
   "cell_type": "markdown",
   "metadata": {},
   "source": [
    "# A recap of what we've seen so far\n",
    "\n",
    "\n",
    "## Variables\n",
    "\n",
    "* Numbers (integer and floats)\n"
   ]
  },
  {
   "cell_type": "code",
   "execution_count": null,
   "metadata": {},
   "outputs": [],
   "source": [
    "# Defining numbers\n",
    "x = 5\n",
    "y = 2.5\n",
    "\n",
    "# Operations on numbers\n",
    "z = x + y\n",
    "w = z**2\n",
    "\n",
    "# other functions defined in math module (also in numpy)\n",
    "import math\n",
    "g = math.exp(w)\n",
    "h = math.sin(math.sqrt(g))\n"
   ]
  },
  {
   "cell_type": "markdown",
   "metadata": {},
   "source": [
    "* Boolean (True and False values)"
   ]
  },
  {
   "cell_type": "code",
   "execution_count": null,
   "metadata": {},
   "outputs": [],
   "source": [
    "# Defining booleans using True and False\n",
    "b1 = True\n",
    "b2 = False\n",
    "\n",
    "# Defining booleans using conditional expressions:\n",
    "b3 = 5 > 6\n",
    "print(\"b3 = \" + str(b3))\n",
    "\n",
    "# Combining conditional expressions using logical operators\n",
    "b4 = (x > y) or (z == 10)\n",
    "print(\"b4 = \" + str(b4))\n",
    "\n",
    "b5 = (x > y) and (z == 10)\n",
    "print(\"b5 = \" + str(b5))"
   ]
  },
  {
   "cell_type": "markdown",
   "metadata": {},
   "source": [
    "* Strings"
   ]
  },
  {
   "cell_type": "code",
   "execution_count": null,
   "metadata": {},
   "outputs": [],
   "source": [
    "msg = \"Hello World\"\n",
    "print(msg)\n",
    "\n",
    "# concatenating strings with +\n",
    "msg1 = \"This is\"\n",
    "msg2 = \"a string\"\n",
    "msg3 = msg1 + \" \" + msg2\n",
    "print(msg3)\n",
    "\n",
    "# repeating strings with *\n",
    "msg4 = \"swo\"\n",
    "print(msg4*5)"
   ]
  },
  {
   "cell_type": "markdown",
   "metadata": {},
   "source": [
    "### Collections of values\n",
    "\n",
    "* `numpy` arrays and matrices"
   ]
  },
  {
   "cell_type": "code",
   "execution_count": null,
   "metadata": {},
   "outputs": [],
   "source": [
    "import numpy as np\n",
    "import matplotlib.pyplot as plt\n",
    "\n",
    "# a numpy array from a list of numbers\n",
    "a = np.array([1, 2, 3, 4, 5])\n",
    "print(\"a = \" + str(a))"
   ]
  },
  {
   "cell_type": "code",
   "execution_count": null,
   "metadata": {},
   "outputs": [],
   "source": [
    "# a numpy array using some built-in functions\n",
    "\n",
    "# numbers in [0, 10), stepping by 2\n",
    "b = np.arange(0, 10, 2)\n",
    "print(\"b = \" + str(b))\n",
    "\n",
    "# 3 equally spaced numbers in [0, 10]\n",
    "c = np.linspace(0, 10, 3)\n",
    "print(\"c = \" + str(c))"
   ]
  },
  {
   "cell_type": "code",
   "execution_count": null,
   "metadata": {},
   "outputs": [],
   "source": [
    "# 3 logarithmically spaced numbers in [10^0, 10^2]\n",
    "d = np.logspace(0, 2, 3)\n",
    "print(\"d = \" + str(d))"
   ]
  },
  {
   "cell_type": "code",
   "execution_count": null,
   "metadata": {},
   "outputs": [],
   "source": [
    "# 100 samples from N(5, 2^2)\n",
    "samples = np.random.normal(5, 2, 100)\n",
    "print(samples)\n",
    "plt.hist(samples)"
   ]
  },
  {
   "cell_type": "code",
   "execution_count": null,
   "metadata": {},
   "outputs": [],
   "source": [
    "# 20 uniform samples between 0 and 1\n",
    "samples = np.random.random(20)\n",
    "print(samples)"
   ]
  },
  {
   "cell_type": "code",
   "execution_count": null,
   "metadata": {},
   "outputs": [],
   "source": [
    "# 100 uniform samples between 4 and 10\n",
    "samples = (10-4)*np.random.random(100) + 4\n",
    "print(samples)\n",
    "plt.hist(samples)"
   ]
  },
  {
   "cell_type": "code",
   "execution_count": null,
   "metadata": {},
   "outputs": [],
   "source": [
    "# A 5x2 random matrix with iid N(0, 1) entries\n",
    "A = np.random.normal(0, 1, [5,2])\n",
    "print(A)"
   ]
  },
  {
   "cell_type": "code",
   "execution_count": null,
   "metadata": {},
   "outputs": [],
   "source": [
    "# An 7 x 3 all zeros matrix (That we may fill up later)\n",
    "Z = np.zeros([7,3])\n",
    "print(Z)"
   ]
  },
  {
   "cell_type": "code",
   "execution_count": null,
   "metadata": {},
   "outputs": [],
   "source": [
    "# numpy array indexing\n",
    "\n",
    "# set the 0-th column to all 1s\n",
    "Z[:, 0] = 1\n",
    "\n",
    "# set the 1-st column to random numbers\n",
    "Z[:, 1] = np.random.random(7)\n",
    "\n",
    "# set the 2-nd column to be the 0-th column + 2 times the 1-st column\n",
    "Z[:, 2] = Z[:,0] + 2*Z[:, 1]\n",
    "\n",
    "# Set the 3-rd row to all zeros\n",
    "Z[3,:] = np.zeros([1, 3])\n",
    "\n",
    "# Set the element in the 5 row, 2nd column to -10\n",
    "Z[5, 2] = -10\n",
    "\n",
    "print(Z)\n"
   ]
  },
  {
   "cell_type": "markdown",
   "metadata": {},
   "source": [
    "### To Do (Data Types):\n",
    "* Other collections including Lists, Dictionaries, Tuples and Sets\n",
    "* List comprehensions\n",
    "* Classes"
   ]
  },
  {
   "cell_type": "markdown",
   "metadata": {},
   "source": [
    "## Functions\n",
    "* Reusable blocks of code\n",
    "* Defining functions using the `def` keyword and supplying an argument list\n",
    "* Returning a value using the `return` keyword\n",
    "* Specifying optional arguments and default values"
   ]
  },
  {
   "cell_type": "code",
   "execution_count": null,
   "metadata": {},
   "outputs": [],
   "source": [
    "def gaussian_rbf(x, mu = 0, sigma = 1):\n",
    "    return np.exp(-(x-mu)**2/(2.0*sigma**2))"
   ]
  },
  {
   "cell_type": "code",
   "execution_count": null,
   "metadata": {},
   "outputs": [],
   "source": [
    "x = np.linspace(-10, 10, 100)\n",
    "y = gaussian_rbf(x)\n",
    "plt.plot(x, y)"
   ]
  },
  {
   "cell_type": "code",
   "execution_count": null,
   "metadata": {},
   "outputs": [],
   "source": [
    "y = gaussian_rbf(x, mu = -5)\n",
    "plt.plot(x, y)"
   ]
  },
  {
   "cell_type": "code",
   "execution_count": null,
   "metadata": {},
   "outputs": [],
   "source": [
    "y = gaussian_rbf(x, sigma = 3)\n",
    "plt.plot(x, y)"
   ]
  },
  {
   "cell_type": "code",
   "execution_count": null,
   "metadata": {},
   "outputs": [],
   "source": [
    "y = gaussian_rbf(x, mu = 5, sigma = 3)\n",
    "plt.plot(x, y)"
   ]
  },
  {
   "cell_type": "markdown",
   "metadata": {},
   "source": [
    "### To Do (Functions):\n",
    "* Other ways to return values\n",
    "* Function scope\n",
    "* Recursion\n",
    "* Parallelization"
   ]
  },
  {
   "cell_type": "markdown",
   "metadata": {},
   "source": [
    "## Control Structures\n",
    "\n",
    "### Conditional execution\n",
    "We saw how to use boolean expressions to determine whether to execute certain parts of our code using the `if ... elif ... else` structure\n",
    "\n",
    "```\n",
    "if (condition):\n",
    "...\n",
    "elif (another condition):\n",
    "..\n",
    "elif (another condition):\n",
    "..\n",
    "else:\n",
    "...\n",
    "```"
   ]
  },
  {
   "cell_type": "code",
   "execution_count": null,
   "metadata": {},
   "outputs": [],
   "source": [
    "# a plain if statement (run several times)\n",
    "p = np.random.random()\n",
    "\n",
    "if(p < 0.25):\n",
    "    print(\"p = \" + str(p))"
   ]
  },
  {
   "cell_type": "code",
   "execution_count": null,
   "metadata": {},
   "outputs": [],
   "source": [
    "# an if-else statement - a biased coin flip\n",
    "p = np.random.random()\n",
    "\n",
    "if(p < 0.45):\n",
    "    print(\"Heads\")\n",
    "else:\n",
    "    print(\"Tails\")"
   ]
  },
  {
   "cell_type": "code",
   "execution_count": null,
   "metadata": {},
   "outputs": [],
   "source": [
    "# an if ... elif ... else statement - a biased die roll\n",
    "\n",
    "p = np.random.random()\n",
    "\n",
    "if(p < 0.1):\n",
    "    print(\"1\")\n",
    "elif(p < 0.2):\n",
    "    print(\"2\")\n",
    "elif(p < 0.3):\n",
    "    print(\"3\")\n",
    "elif(p < 0.4):\n",
    "    print(\"4\")\n",
    "elif(p < 0.5):\n",
    "    print(\"5\")\n",
    "else:\n",
    "    print(\"6\")"
   ]
  },
  {
   "cell_type": "markdown",
   "metadata": {},
   "source": [
    "### Exercise (1D random walk)\n",
    "\n",
    "Imagine a particle on the real number line at position $x$. Every second, it takes a step\n",
    "$$ x \\rightarrow x \\pm s$$\n",
    "for some step size $s$. The sign of the step (i.e. the $\\pm$ above) determines the direction the particle moves. If it moves (for example) like:\n",
    "$$ x \\rightarrow x + s$$\n",
    "this means it moves to the *right* by an amount $s$. If instead, it moves like:\n",
    "$$ x \\rightarrow x - s$$\n",
    "it moves to the **left**. \n",
    "\n",
    "At each step, we'll think of the direction (either left or right) taken as a random variable: with some probability $p$ it steps to the right, and with probability $1-p$ it steps to the left. \n",
    "\n",
    "Write a function `random_walk` to perform a 1D random walk, starting at the position $x = 0$. The function should take the following arguments as input:\n",
    "* the number of steps to take, $n$\n",
    "* an optional step size $s$, with default value 1\n",
    "* an optional number $p$ describing the probability that the particle will move right versus left, with default value of 0.5\n",
    "\n",
    "The function should return the sequence of positions $(x_i)$ the particle visits during its random walk.\n",
    "\n",
    "To help with this, define a function `bernoulli_rv` takes in a probability $p$ and returns a 1 with probability $p$ and a -1 with probability $1-p$"
   ]
  },
  {
   "cell_type": "code",
   "execution_count": null,
   "metadata": {},
   "outputs": [],
   "source": [
    "def bernoulli_rv(p):\n",
    "    # return 1 with probability p, -1 with probability 1-p\n",
    "    \n",
    "        \n",
    "def random_walk(n, s=1, p = 0.5):\n",
    "    positions = np.zeros(n)\n",
    "    \n",
    "    # calculate the position of the particle at each of the n steps\n",
    "               \n",
    "    return positions\n",
    "\n",
    "\n",
    "pos = random_walk(1000, p = 0.5)\n",
    "plt.plot(pos)\n",
    "plt.xlabel('Time')\n",
    "plt.ylabel('Position')\n"
   ]
  },
  {
   "cell_type": "markdown",
   "metadata": {},
   "source": [
    "### Exercise\n",
    "Write a function `sample_rw_params` that performs $m$ random walks, each using the default values for $p$ and $s$. For each of the random walks, calculate the save the final position, then after the $m$ random walks, calculate the mean and variance of this final position, and return it as a pair of numbers. The function should accept as input arguments\n",
    "\n",
    "1. $m$ the number of random walks to perform\n",
    "2. $n$ the number of steps each random walk should take\n",
    "3. `plot_hist`, an optional Boolean (default: `False`) that indicates if we should plot the histogram of the final position after the $m$ random walks\n"
   ]
  },
  {
   "cell_type": "code",
   "execution_count": null,
   "metadata": {},
   "outputs": [],
   "source": [
    "def sample_rw_params(m, n, plot_hist=False):\n",
    "    \n",
    "    # Calculate mu and sig2 here\n",
    "    \n",
    "    return mu, sig2\n"
   ]
  },
  {
   "cell_type": "code",
   "execution_count": null,
   "metadata": {},
   "outputs": [],
   "source": [
    "mu, sig2 = sample_rw_params(500, 1000, plot_hist=True)"
   ]
  },
  {
   "cell_type": "markdown",
   "metadata": {},
   "source": [
    "# Python Lists and List Comprehensions\n",
    "\n",
    "* Python lists are **first-class data types** (i.e. they are part of the Python language, and are not defined in some external library like e.g. `numpy` arrays).\n",
    "\n",
    "* Python lists can be lists of Numbers (like `numpy` arrays), Booleans, Strings, or any other data type. Because of this we think of list as a **Collection** data type.\n",
    "\n"
   ]
  },
  {
   "cell_type": "code",
   "execution_count": null,
   "metadata": {},
   "outputs": [],
   "source": [
    "# A list of numbers\n",
    "number_list = [0, 10, 20, 30, 40, 50]\n",
    "\n",
    "# A list of strings\n",
    "string_list = [\"A\", \"B\", \"CDEFG\"]\n",
    "\n",
    "# A list of lists\n",
    "list_list = [number_list, string_list]\n",
    "print(list_list)\n",
    "\n",
    "# An empty list\n",
    "empty_list = []\n",
    "print(empty_list)"
   ]
  },
  {
   "cell_type": "code",
   "execution_count": null,
   "metadata": {},
   "outputs": [],
   "source": [
    "# A list of numpy arrays\n",
    "a1 = np.random.random(5)\n",
    "a2 = np.random.random(10)\n",
    "a3 = np.random.random([5, 10])\n",
    "np_list = [a1, a2, a3]\n",
    "print(np_list)"
   ]
  },
  {
   "cell_type": "markdown",
   "metadata": {},
   "source": [
    "Like 1D `numpy` arrays, we can index into a list to extract individual elements:"
   ]
  },
  {
   "cell_type": "code",
   "execution_count": null,
   "metadata": {},
   "outputs": [],
   "source": [
    "z = number_list[2]\n",
    "print(\"2-nd element in number_list = \" + str(z))"
   ]
  },
  {
   "cell_type": "markdown",
   "metadata": {},
   "source": [
    "Like 1D `numpy` arrays, lists are **0-indexed** meaning, if a list has e.g. 6 entries, they are indexed by 0, 1, 2, ..., 5, respectively."
   ]
  },
  {
   "cell_type": "code",
   "execution_count": null,
   "metadata": {},
   "outputs": [],
   "source": [
    "print(number_list[0])"
   ]
  },
  {
   "cell_type": "code",
   "execution_count": null,
   "metadata": {},
   "outputs": [],
   "source": [
    "# This will result in an error\n",
    "print(number_list[6])"
   ]
  },
  {
   "cell_type": "markdown",
   "metadata": {},
   "source": [
    "Like 1D `numpy` arrays, we can use \"slice\" notation to extract a range of list entries."
   ]
  },
  {
   "cell_type": "code",
   "execution_count": null,
   "metadata": {},
   "outputs": [],
   "source": [
    "# extract the elements at indices 0, 1, 2 (but not 3)\n",
    "number_list[0:3]"
   ]
  },
  {
   "cell_type": "code",
   "execution_count": null,
   "metadata": {},
   "outputs": [],
   "source": [
    "# extract the elements at indices 3, 4, 5 (but not 6, since there is no element at index 6)\n",
    "number_list[3:6]"
   ]
  },
  {
   "cell_type": "markdown",
   "metadata": {},
   "source": [
    "In general, `number_list[m:n]` will extract `n-m` elements, starting and including the element at position `m`.\n",
    "\n",
    "All of this applies to any Python list:"
   ]
  },
  {
   "cell_type": "code",
   "execution_count": null,
   "metadata": {},
   "outputs": [],
   "source": [
    "list_list[1]"
   ]
  },
  {
   "cell_type": "code",
   "execution_count": null,
   "metadata": {},
   "outputs": [],
   "source": [
    "string_list[1:3]"
   ]
  },
  {
   "cell_type": "code",
   "execution_count": null,
   "metadata": {},
   "outputs": [],
   "source": [
    "list_2d = [ [1, 2, 3], [4, 5, 6], [7, 8, 9]]\n",
    "list_2d[0:2]"
   ]
  },
  {
   "cell_type": "markdown",
   "metadata": {},
   "source": [
    "Unlike `numpy` 2D arrays, we can't use the notation `arr[i,j]` to get the `j`-th element of the `i`-th list of a list of lists."
   ]
  },
  {
   "cell_type": "code",
   "execution_count": null,
   "metadata": {},
   "outputs": [],
   "source": [
    "# this results in an error\n",
    "list_2d[0, 2]"
   ]
  },
  {
   "cell_type": "code",
   "execution_count": null,
   "metadata": {},
   "outputs": [],
   "source": [
    "# instead you have to use\n",
    "list_2d[0][2]"
   ]
  },
  {
   "cell_type": "code",
   "execution_count": null,
   "metadata": {},
   "outputs": [],
   "source": [
    "# that is get the 0-th list of list_2d, then get the 2-nd element of that list\n",
    "list_2d[0]"
   ]
  },
  {
   "cell_type": "markdown",
   "metadata": {},
   "source": [
    "## Adding and removing elements to a list\n",
    "\n",
    "* Given a list, you can add an element to the end of the list using the `.append()` function:"
   ]
  },
  {
   "cell_type": "code",
   "execution_count": null,
   "metadata": {},
   "outputs": [],
   "source": [
    "number_list.append(10)\n",
    "print(number_list)"
   ]
  },
  {
   "cell_type": "markdown",
   "metadata": {},
   "source": [
    "* You can remove an element using the `.remove(x)` function. It will remove the first instance of `x` in the list."
   ]
  },
  {
   "cell_type": "code",
   "execution_count": null,
   "metadata": {},
   "outputs": [],
   "source": [
    "number_list.remove(10)\n",
    "print(number_list)"
   ]
  },
  {
   "cell_type": "markdown",
   "metadata": {},
   "source": [
    "* You can remove and return an element at index i using the `.pop(i)` function. If you don't specify `i`, it will remove the last element, so in that sense, it's the opposite of the `.append()` function."
   ]
  },
  {
   "cell_type": "code",
   "execution_count": null,
   "metadata": {},
   "outputs": [],
   "source": [
    "el = number_list.pop()\n",
    "print(number_list)"
   ]
  },
  {
   "cell_type": "markdown",
   "metadata": {},
   "source": [
    "## List comprehensions\n",
    "\n",
    "List comprehensions are a powerful way of creating lists. Consider the following `for`-loop to calculate the squares of all numbers between 0 and 9:"
   ]
  },
  {
   "cell_type": "code",
   "execution_count": null,
   "metadata": {},
   "outputs": [],
   "source": [
    "squares = []\n",
    "for i in range(10):\n",
    "    squares.append(i**2)\n",
    "print(squares)"
   ]
  },
  {
   "cell_type": "markdown",
   "metadata": {},
   "source": [
    "An alternative way to do this is to use **list comprehensions**:"
   ]
  },
  {
   "cell_type": "code",
   "execution_count": null,
   "metadata": {},
   "outputs": [],
   "source": [
    "squares2 = [i**2 for i in range(10)]\n",
    "print(squares2)"
   ]
  },
  {
   "cell_type": "markdown",
   "metadata": {},
   "source": [
    "List comprehensions are a consise way of building up lists. Because of its consiseness, it is considered more \"**Pythonic**\".\n",
    "\n",
    "List comprehensions can be nested, like nested for loops. Consider the following nested loop to create a list of lists:"
   ]
  },
  {
   "cell_type": "code",
   "execution_count": null,
   "metadata": {},
   "outputs": [],
   "source": [
    "products = []\n",
    "for i in range(4):\n",
    "    products_i = []\n",
    "    for j in range(4):\n",
    "        products_i.append(i*j)\n",
    "    products.append(products_i)\n",
    "    \n",
    "print(products)"
   ]
  },
  {
   "cell_type": "code",
   "execution_count": null,
   "metadata": {},
   "outputs": [],
   "source": [
    "products2 = [ [i*j for j in range(4)] for i in range(4)]\n",
    "print(products2)"
   ]
  },
  {
   "cell_type": "markdown",
   "metadata": {},
   "source": [
    "The elements that go into the list (e.g. `i**2` or `i*j`) can be any valid python code. Typically this code will use `i` or `j` in some way.\n",
    "\n",
    "The use of `range(4)` can be replaced by anything that can be iterated over. In addition to ranges, you could use other lists or even `numpy` arrays."
   ]
  },
  {
   "cell_type": "markdown",
   "metadata": {},
   "source": [
    "### Exercise\n",
    "\n",
    "For 10 equally spaced values $x_i$ between 0 and $2\\pi$, form the a list of lists representing the design matrix\n",
    "\n",
    "$$\\Phi_{i,j} = \\sin(j\\cdot x_i) $$\n",
    "\n",
    "for $j = 0, 1, ..., 3.$\n",
    "\n",
    "That is your list `Phi_list` should be a list-of-list where the `j`-th entry of the `i`-th list is `Phi_list[i][j] = sin(j*x_i)`."
   ]
  },
  {
   "cell_type": "code",
   "execution_count": null,
   "metadata": {},
   "outputs": [],
   "source": []
  },
  {
   "cell_type": "markdown",
   "metadata": {},
   "source": [
    "Because `numpy` arrays can be built from Python arrays, list comprehensions can be used to consisely specify `numpy` arrays."
   ]
  },
  {
   "cell_type": "code",
   "execution_count": null,
   "metadata": {},
   "outputs": [],
   "source": [
    "Phi = np.array(Phi_list)\n",
    "print(Phi)"
   ]
  },
  {
   "cell_type": "markdown",
   "metadata": {},
   "source": [
    "Consider the following loop:"
   ]
  },
  {
   "cell_type": "code",
   "execution_count": null,
   "metadata": {},
   "outputs": [],
   "source": [
    "bad_words = ['a', 'f', 's']\n",
    "\n",
    "user_post = ['i', 'f', 'b', 'c', 's', 'd', 'a']\n",
    "\n",
    "filtered_post = []\n",
    "for word in user_post:\n",
    "    if word not in bad_words:\n",
    "        filtered_post.append(word)\n",
    "        \n",
    "print(filtered_post)\n"
   ]
  },
  {
   "cell_type": "markdown",
   "metadata": {},
   "source": [
    "We can construct `filtered_post` with a list comprehension using the **`if` clause**"
   ]
  },
  {
   "cell_type": "code",
   "execution_count": null,
   "metadata": {},
   "outputs": [],
   "source": [
    "filtered_post = [word for word in user_post if word not in bad_words]\n",
    "\n",
    "print(filtered_post)"
   ]
  },
  {
   "cell_type": "markdown",
   "metadata": {},
   "source": [
    "The `if` clause in a list comprehension specifies a filter on the items in `user_post` to include in the final list. Here we're saying to add `word` to the list for the `word` in `user_post` that satisfies the condition `not in bad_words`.\n",
    "\n",
    "In general list comprehensions take the form:\n",
    "`my_list = [ f(x) for x in A if c(x) ]`\n",
    "\n",
    "where `f(x)` is some transformation or other function that depends on `x`, `A` is the set of all `x` that can possibly be included in the list, and `c(x)` is some boolean expression determines whether to include `x` in the list."
   ]
  },
  {
   "cell_type": "markdown",
   "metadata": {},
   "source": [
    "### Exercise\n",
    "Load the dataset in `lec6.txt`. This dataset contains rows with missing data - some of the entries will be *Not-a-Number* (`NaN`). Use a list comprehension to filter out the data that contains missing entries. For a `numpy` array, you can use the condition `np.any(np.isnan(x))` check if any entries are `NaN`."
   ]
  },
  {
   "cell_type": "code",
   "execution_count": null,
   "metadata": {},
   "outputs": [],
   "source": []
  },
  {
   "cell_type": "markdown",
   "metadata": {},
   "source": [
    "### The 1D random walk using list comprehensions\n",
    "\n",
    "If we notice that the final position of the 1D random walk after $n$ steps is the sum of $n$ Bernoulli random variables that take on values $\\left\\{-s, s\\right\\}$, we can calculate the distribution of final positions after $n$ steps using list comprehensions."
   ]
  },
  {
   "cell_type": "code",
   "execution_count": null,
   "metadata": {},
   "outputs": [],
   "source": [
    "n = 1000\n",
    "s = 1\n",
    "m = 500\n",
    "\n",
    "# Perform m random walks, each having n steps\n",
    "R = [ np.sum( [s*bernoulli_rv(0.5) for j in range(n)] ) for i in range(m)]\n",
    "\n",
    "print(\"mean = \" + str(np.mean(R)))\n",
    "print(\"var = \" + str(np.var(R)))\n",
    "plt.hist(R)"
   ]
  },
  {
   "cell_type": "markdown",
   "metadata": {},
   "source": [
    "This actually consists of two list comprehensions.\n",
    "\n",
    "The inner comprehension:\n",
    "\n",
    "```\n",
    "[s*bernoulli_rv(0.5) for j in range(n)]\n",
    "```\n",
    "\n",
    "creates a list of $n$ numbers in $\\left\\{-s, s\\right\\}$. \n",
    "\n",
    "We then take the sum of these values to get the final position:\n",
    "\n",
    "```\n",
    "np.sum( [s*bernoulli_rv(0.5) for j in range(n)] )\n",
    "```\n",
    "\n",
    "This is the result of a single random walk. We want to do `m` of them, so we form a list of `m` such sums:\n",
    "\n",
    "```\n",
    "[ np.sum( [s*bernoulli_rv(0.5) for j in range(n)] ) for i in range(m)]\n",
    "```"
   ]
  },
  {
   "cell_type": "code",
   "execution_count": null,
   "metadata": {},
   "outputs": [],
   "source": []
  }
 ],
 "metadata": {
  "kernelspec": {
   "display_name": "Python 3",
   "language": "python",
   "name": "python3"
  },
  "language_info": {
   "codemirror_mode": {
    "name": "ipython",
    "version": 3
   },
   "file_extension": ".py",
   "mimetype": "text/x-python",
   "name": "python",
   "nbconvert_exporter": "python",
   "pygments_lexer": "ipython3",
   "version": "3.6.5"
  }
 },
 "nbformat": 4,
 "nbformat_minor": 2
}
