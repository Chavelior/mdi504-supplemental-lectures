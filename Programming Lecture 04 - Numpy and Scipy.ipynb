{
 "cells": [
  {
   "cell_type": "markdown",
   "metadata": {},
   "source": [
    "# Numpy, Scipy and Design Matrices for linear regression\n",
    "\n",
    "Our goal for today is to build several design matrices for the case when we have several variables. Along the way, we'll examine some utility functions built into numpy and scipy."
   ]
  },
  {
   "cell_type": "markdown",
   "metadata": {},
   "source": [
    "## Matrices in Numpy\n",
    "\n",
    "Matrices in `numpy` are 2D arrays, which are wrappers around basic python list-of-lists"
   ]
  },
  {
   "cell_type": "code",
   "execution_count": 15,
   "metadata": {},
   "outputs": [],
   "source": [
    "import numpy as np\n",
    "import matplotlib.pyplot as plt"
   ]
  },
  {
   "cell_type": "code",
   "execution_count": 19,
   "metadata": {},
   "outputs": [],
   "source": [
    "A_list_of_lists = [\n",
    "    [1, 2, 3],\n",
    "    [4, 5, 6],\n",
    "    [7, 8, 9]\n",
    "]\n",
    "\n",
    "# Turn python list of lists to a numpy 2D array\n",
    "A = np.array(A_list_of_lists)"
   ]
  },
  {
   "cell_type": "code",
   "execution_count": 20,
   "metadata": {},
   "outputs": [
    {
     "name": "stdout",
     "output_type": "stream",
     "text": [
      "[[ 1  4  9]\n",
      " [16 25 36]\n",
      " [49 64 81]]\n"
     ]
    }
   ],
   "source": [
    "# Now we can do numpy operations!\n",
    "# count how many rows\n",
    "\n",
    "# count how many columns"
   ]
  },
  {
   "cell_type": "code",
   "execution_count": null,
   "metadata": {},
   "outputs": [],
   "source": [
    "# Square each element"
   ]
  },
  {
   "cell_type": "code",
   "execution_count": 21,
   "metadata": {},
   "outputs": [
    {
     "name": "stdout",
     "output_type": "stream",
     "text": [
      "[[ 2  6 12]\n",
      " [20 30 42]\n",
      " [56 72 90]]\n"
     ]
    }
   ],
   "source": [
    "# Add them together\n"
   ]
  },
  {
   "cell_type": "code",
   "execution_count": 25,
   "metadata": {},
   "outputs": [
    {
     "name": "stdout",
     "output_type": "stream",
     "text": [
      "[[1 2 3]\n",
      " [4 5 6]\n",
      " [7 8 9]]\n"
     ]
    },
    {
     "data": {
      "text/plain": [
       "array([ 6, 15, 24])"
      ]
     },
     "execution_count": 25,
     "metadata": {},
     "output_type": "execute_result"
    }
   ],
   "source": [
    "# Sum down columns (axis = 0)"
   ]
  },
  {
   "cell_type": "code",
   "execution_count": 26,
   "metadata": {},
   "outputs": [
    {
     "data": {
      "text/plain": [
       "array([ 6, 15, 24])"
      ]
     },
     "execution_count": 26,
     "metadata": {},
     "output_type": "execute_result"
    }
   ],
   "source": [
    "# Sum down rows (axis = 1)"
   ]
  },
  {
   "cell_type": "code",
   "execution_count": 27,
   "metadata": {},
   "outputs": [],
   "source": [
    "# Get the element in row 0, column 1\n",
    "\n",
    "# Get column 0\n",
    "\n",
    "# Set column 0\n",
    "\n",
    "# Get the row 2\n",
    "\n",
    "# Set row 2"
   ]
  },
  {
   "cell_type": "markdown",
   "metadata": {},
   "source": [
    "Often in this class, we'll store our data in matrices. We'll hold the convention that each **row** corresponds to a data point, and each **column** corresponds to a variable. So if we had data about 1) temperature, 2) pressure, and 3)strength over 5 measurements, we would have a matrix with 5 rows and 3 columns.\n",
    "\n",
    "One useful thing to do to your data is to normalize variables, so that they are all unitless. You should normalize each variable seperately. Three common normalization techniques are:\n",
    "\n",
    "1. [0,1] normalization: \n",
    "$$X^\\prime = \\frac{X - \\min(X)}{\\max(X) - \\min(X)}$$\n",
    "2. [-1, 1] normalization: \n",
    "$$X^\\prime = 2\\frac{X - \\min(X)}{\\max(X) - \\min(X)} - 1$$\n",
    "3. Z-normalization: \n",
    "$$X^\\prime = \\frac{X - \\mu}{\\sigma}$$\n",
    "\n",
    "\n",
    "### Exercise\n",
    "Write a function that takes in a matrix and performs normalization on each of its columns. It should take in a string called `norm_type`, which should either be `[0,1]`, `[-1,1]` or `Z` to indicate the type of normalization to perform. It should return a matrix with the normalized columns\n",
    "\n",
    "\n",
    "Call it on a the matrix `A` defined above. Print out the result. Then print out `A` again."
   ]
  },
  {
   "cell_type": "code",
   "execution_count": null,
   "metadata": {},
   "outputs": [],
   "source": []
  },
  {
   "cell_type": "markdown",
   "metadata": {},
   "source": [
    "## Design matrices\n",
    "\n",
    "Recall that a crucial part of linear regression is in deciding which basis functions we would like to use to write \n",
    "\n",
    "$$ y = \\sum_{j=1}^n \\theta_j \\phi_j(\\mathbf x). $$\n",
    "\n",
    "In class, we looked at some common basis functions for the case when the input $\\mathbf x$ was just a scalar quantity, $\\mathbf x = x$. Examples include the monomial (or power series) basis:\n",
    "$$ \\phi_j = x^j,$$\n",
    "or the Chebyshev polynomials:\n",
    "$$ \\phi_j(x) = T_j(x) = \\cos( j \\cdot \\text{arccos} x)$$\n",
    "or the Fourier basis (which consists of two sets of functions):\n",
    "$$ \\phi_j(x) = \\cos(jx) $$\n",
    "$$ \\psi_j(x) = \\sin(jx) $$\n",
    "\n",
    "To perform the least-squares regression, we had to build the **design matrix** $\\Phi$ which is defined as\n",
    "\n",
    "$$ \\Phi_{i,j} = \\phi_j(\\mathbf x_i),$$\n",
    "\n",
    "where $\\mathbf x_i$ is the input variable(s) corresponding to the $i$-th data point. We saw in class that in the case of the monomial basis, the design matrix had a special name called the **Vandermonde** matrix, and that `numpy`  had a special function to construct this called `numpy.vander`.\n",
    "\n",
    "For other bases, we aren't so lucky, and so we have to manually construct our design matrices. For example, let's build a design matrix for the Fourier series:\n",
    "$$ y = \\gamma + \\sum_{j=1}^n \\alpha_j \\cos(jx) + \\sum_{j=1}^n \\beta_j \\sin(jx),$$\n",
    "Here $\\theta = (\\gamma, \\alpha_1, ..., \\alpha_n, \\beta_1, ... \\beta_n)$\n",
    "\n",
    "### Exercise: Build the Fourier Design Matrix"
   ]
  },
  {
   "cell_type": "code",
   "execution_count": 3,
   "metadata": {},
   "outputs": [
    {
     "ename": "SyntaxError",
     "evalue": "unexpected EOF while parsing (<ipython-input-3-973e367ae356>, line 20)",
     "output_type": "error",
     "traceback": [
      "\u001b[0;36m  File \u001b[0;32m\"<ipython-input-3-973e367ae356>\"\u001b[0;36m, line \u001b[0;32m20\u001b[0m\n\u001b[0;31m    \u001b[0m\n\u001b[0m    ^\u001b[0m\n\u001b[0;31mSyntaxError\u001b[0m\u001b[0;31m:\u001b[0m unexpected EOF while parsing\n"
     ]
    }
   ],
   "source": [
    "# X = data, numbers between -pi and pi\n",
    "def build_fourier_design_matrix(X, n):\n",
    "    # We're going to think of the matrix Phi = [1 C S]\n",
    "    # as a concatenation of 3 parts:\n",
    "    #   1: the all ones vector \n",
    "    #   2: The cosine basis functions\n",
    "    #   3: The sine basis functions\n",
    "    \n",
    "    # Build the cos part:\n",
    "    \n",
    "    \n",
    "    # Build the sin part:\n",
    "    \n",
    "    \n",
    "    # Build the all ones vector:\n",
    "    \n",
    "    # concatenate them together with the np.concatenate function\n",
    "    "
   ]
  },
  {
   "cell_type": "markdown",
   "metadata": {},
   "source": [
    "Now let's test this out on some data. We'll use as our ground truth some function:\n",
    "\n",
    "$$y = 3 + \\cos(x) - \\sin(2x) + 0.5\\sin(3x)$$\n"
   ]
  },
  {
   "cell_type": "code",
   "execution_count": 14,
   "metadata": {},
   "outputs": [
    {
     "data": {
      "text/plain": [
       "<matplotlib.collections.PathCollection at 0x1182f6198>"
      ]
     },
     "execution_count": 14,
     "metadata": {},
     "output_type": "execute_result"
    },
    {
     "data": {
      "image/png": "[encoded data removed]",
      "text/plain": [
       "<Figure size 432x288 with 1 Axes>"
      ]
     },
     "metadata": {},
     "output_type": "display_data"
    }
   ],
   "source": [
    "# pick some random x values between -pi to pi. we can use numpy.random.uniform to do this.\n",
    "\n",
    "# evaluate the ground truth (here we can use numpy.sin and numpy.cos)\n",
    "\n",
    "# Add noise iid noise N(0, 0.3^2) noise to y"
   ]
  },
  {
   "cell_type": "code",
   "execution_count": null,
   "metadata": {},
   "outputs": [],
   "source": [
    "# now build the design matrix and run least squares."
   ]
  },
  {
   "cell_type": "markdown",
   "metadata": {},
   "source": [
    "## Multiple input variables\n",
    "\n",
    "In many instances, we have several input variables, instead of just 1. In many respects, nothing really changes from the single-variable case. We just have to define basis functions that take in several variables, and return a number.\n",
    "\n",
    "One common multi-variable family of basis functions are **Radial Basis Functions**. Radial basis functions are really functions of the distance between their inputs and some fixed points in the domain.\n",
    "\n",
    "For example, if we fix a set of $n$ points $\\mathbf z_1, ..., \\mathbf z_n$ of the same dimensionality as the input variables $\\mathbf x_1, ..., \\mathbf x_D$, we can define the so-called **Gaussian Radial Basis Functions**:\n",
    "\n",
    "$$ \\phi_j(\\mathbf x) = \\exp\\left[-\\frac{\\|\\mathbf x - \\mathbf z_j\\|_2^2}{a^2}\\right]$$\n",
    "\n",
    "where $a$ is a parameter.\n",
    "\n",
    "### Exercise: Implement the Guassian Radial Basis Function:"
   ]
  },
  {
   "cell_type": "code",
   "execution_count": null,
   "metadata": {},
   "outputs": [],
   "source": [
    "def gauss_rbf(x, z, a=1):"
   ]
  },
  {
   "cell_type": "markdown",
   "metadata": {},
   "source": [
    "Once we have the gauss_rbf implemented, we can form the corresponding design matrix\n",
    "\n",
    "### Exercise: Build the Gaussian RBF Design Matrix\n"
   ]
  },
  {
   "cell_type": "code",
   "execution_count": null,
   "metadata": {},
   "outputs": [],
   "source": [
    "# X is a m x D array of input vectors, each row corresponding to a different data point\n",
    "# Z is an n x D array of fixed points, each row corresponding to a different fixed point\n",
    "\n",
    "def build_gaussian_design_matrix(X, Z, a):\n",
    "    m = X.shape[0]\n",
    "    D = X.shape[1]\n",
    "    n = Z.shape[0]\n",
    "    \n",
    "    Phi = np.zeros([m, n])\n",
    " \n",
    "    # iterate over all data points\n",
    "\n",
    "        # Get the i-th data point\n",
    "        \n",
    "        # iterate over all basis functions (equiv. all fixed points)\n",
    "\n",
    "            # Get the j-th fixed point\n",
    "            \n",
    "            ## Phi[i,j] = j-th basis function evaluated at the i-th data point"
   ]
  },
  {
   "cell_type": "markdown",
   "metadata": {},
   "source": [
    "Once we built this, we can try fitting some data. You can load the data file `creep_rupture_tests.txt`. This data file has 31 columns. The `Y = data[:,1]` variable is in column 1. The `X = data[:, 2:31]` variables are in columns 2 to 30.\n",
    "\n",
    "### Exercise: Use least squares regression to fit the data.\n",
    "1. Seperate the data into testing (first 1000 points), validation (next 500 points) and testing (remaining points) sets.\n",
    "\n",
    "2. For n fixed points, use the first $n$ points in the training data.\n",
    "\n",
    "3. Measure how good the trained model does on the validation testing set.\n",
    "\n",
    "\n"
   ]
  },
  {
   "cell_type": "code",
   "execution_count": null,
   "metadata": {},
   "outputs": [],
   "source": []
  }
 ],
 "metadata": {
  "kernelspec": {
   "display_name": "Python 3",
   "language": "python",
   "name": "python3"
  },
  "language_info": {
   "codemirror_mode": {
    "name": "ipython",
    "version": 3
   },
   "file_extension": ".py",
   "mimetype": "text/x-python",
   "name": "python",
   "nbconvert_exporter": "python",
   "pygments_lexer": "ipython3",
   "version": "3.6.5"
  }
 },
 "nbformat": 4,
 "nbformat_minor": 2
}
