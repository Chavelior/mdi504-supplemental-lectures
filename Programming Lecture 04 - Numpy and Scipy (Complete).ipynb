{
 "cells": [
  {
   "cell_type": "markdown",
   "metadata": {},
   "source": [
    "# Numpy, Scipy and Design Matrices for linear regression\n",
    "\n",
    "Our goal for today is to build several design matrices for the case when we have several variables. Along the way, we'll examine some utility functions built into numpy and scipy."
   ]
  },
  {
   "cell_type": "markdown",
   "metadata": {},
   "source": [
    "## Matrices in Numpy\n",
    "\n",
    "Matrices in `numpy` are 2D arrays, which are wrappers around basic python list-of-lists"
   ]
  },
  {
   "cell_type": "code",
   "execution_count": 2,
   "metadata": {},
   "outputs": [],
   "source": [
    "import numpy as np\n",
    "import matplotlib.pyplot as plt"
   ]
  },
  {
   "cell_type": "code",
   "execution_count": 25,
   "metadata": {},
   "outputs": [],
   "source": [
    "A_list_of_lists = [\n",
    "    [1., 2., 3.],\n",
    "    [4., 5., 6.],\n",
    "    [7., 8., 9.],\n",
    "    [10., 11., 13.],\n",
    "]\n",
    "\n",
    "# Turn python list of lists to a numpy 2D array\n",
    "A = np.array(A_list_of_lists)"
   ]
  },
  {
   "cell_type": "code",
   "execution_count": 6,
   "metadata": {},
   "outputs": [
    {
     "name": "stdout",
     "output_type": "stream",
     "text": [
      "(4, 3)\n"
     ]
    }
   ],
   "source": [
    "# Now we can do numpy operations!\n",
    "print(A.shape)\n",
    "\n",
    "# count how many rows\n",
    "nrows = A.shape[0]\n",
    "\n",
    "# count how many columns\n",
    "ncols = A.shape[1]"
   ]
  },
  {
   "cell_type": "code",
   "execution_count": 8,
   "metadata": {},
   "outputs": [
    {
     "name": "stdout",
     "output_type": "stream",
     "text": [
      "[[  1   4   9]\n",
      " [ 16  25  36]\n",
      " [ 49  64  81]\n",
      " [100 121 169]]\n"
     ]
    }
   ],
   "source": [
    "# Square each element\n",
    "B = A**2\n",
    "print(B)"
   ]
  },
  {
   "cell_type": "code",
   "execution_count": 9,
   "metadata": {},
   "outputs": [
    {
     "name": "stdout",
     "output_type": "stream",
     "text": [
      "[[  2   6  12]\n",
      " [ 20  30  42]\n",
      " [ 56  72  90]\n",
      " [110 132 182]]\n"
     ]
    }
   ],
   "source": [
    "# Add them together\n",
    "C = B + A\n",
    "\n",
    "print(C)"
   ]
  },
  {
   "cell_type": "code",
   "execution_count": 11,
   "metadata": {},
   "outputs": [
    {
     "name": "stdout",
     "output_type": "stream",
     "text": [
      "[[ 1  2  3]\n",
      " [ 4  5  6]\n",
      " [ 7  8  9]\n",
      " [10 11 13]]\n"
     ]
    },
    {
     "data": {
      "text/plain": [
       "array([22, 26, 31])"
      ]
     },
     "execution_count": 11,
     "metadata": {},
     "output_type": "execute_result"
    }
   ],
   "source": [
    "# Sum down columns (axis = 0)\n",
    "print(A)\n",
    "np.sum(A, axis=0)\n"
   ]
  },
  {
   "cell_type": "code",
   "execution_count": 12,
   "metadata": {},
   "outputs": [
    {
     "data": {
      "text/plain": [
       "array([ 6, 15, 24, 34])"
      ]
     },
     "execution_count": 12,
     "metadata": {},
     "output_type": "execute_result"
    }
   ],
   "source": [
    "# Sum down rows (axis = 1)\n",
    "np.sum(A, axis = 1)"
   ]
  },
  {
   "cell_type": "code",
   "execution_count": 20,
   "metadata": {},
   "outputs": [
    {
     "name": "stdout",
     "output_type": "stream",
     "text": [
      "[[ 1  2  3]\n",
      " [ 4  5  6]\n",
      " [ 7  8  9]\n",
      " [10 11 13]]\n",
      "[7 8 9]\n",
      "[[ 1  2  3]\n",
      " [ 4  5  6]\n",
      " [14 16 18]\n",
      " [10 11 13]]\n"
     ]
    }
   ],
   "source": [
    "# Get the element in row 0, column 1\n",
    "#print(A[0,1])\n",
    "\n",
    "# Get column 0\n",
    "A0 = A[:, 0]\n",
    "#print(A0)\n",
    "\n",
    "# Set column 0\n",
    "A[:,0] = np.array([1, 4, 7, 10])\n",
    "\n",
    "print(A)\n",
    "\n",
    "# Get the row 2\n",
    "R2 = A[2, :]\n",
    "print(R2)\n",
    "\n",
    "# Set row 2\n",
    "A[2,:] = 2*R2\n",
    "print(A)"
   ]
  },
  {
   "cell_type": "markdown",
   "metadata": {},
   "source": [
    "Often in this class, we'll store our data in matrices. We'll hold the convention that each **row** corresponds to a data point, and each **column** corresponds to a variable. So if we had data about 1) temperature, 2) pressure, and 3)strength over 5 measurements, we would have a matrix with 5 rows and 3 columns.\n",
    "\n",
    "One useful thing to do to your data is to normalize variables, so that they are all unitless. You should normalize each variable seperately. Three common normalization techniques are:\n",
    "\n",
    "1. [0,1] normalization: \n",
    "$$X^\\prime = \\frac{X - \\min(X)}{\\max(X) - \\min(X)}$$\n",
    "2. [-1, 1] normalization: \n",
    "$$X^\\prime = 2\\frac{X - \\min(X)}{\\max(X) - \\min(X)} - 1$$\n",
    "3. Z-normalization: \n",
    "$$X^\\prime = \\frac{X - \\mu}{\\sigma}$$\n",
    "\n",
    "\n",
    "### Exercise\n",
    "Write a function that takes in a matrix and performs normalization on each of its columns. It should take in a string called `norm_type`, which should either be `[0,1]`, `[-1,1]` or `Z` to indicate the type of normalization to perform. It should return a matrix with the normalized columns\n",
    "\n",
    "\n",
    "Call it on a the matrix `A` defined above. Print out the result. Then print out `A` again."
   ]
  },
  {
   "cell_type": "code",
   "execution_count": 49,
   "metadata": {},
   "outputs": [
    {
     "name": "stdout",
     "output_type": "stream",
     "text": [
      "W = \n",
      "[[-1.34164079 -1.34164079 -1.28390102]\n",
      " [-0.4472136  -0.4472136  -0.47301616]\n",
      " [ 0.4472136   0.4472136   0.33786869]\n",
      " [ 1.34164079  1.34164079  1.41904849]]\n",
      "Z = \n",
      "[[-1.34164079 -1.34164079 -1.28390102]\n",
      " [-0.4472136  -0.4472136  -0.47301616]\n",
      " [ 0.4472136   0.4472136   0.33786869]\n",
      " [ 1.34164079  1.34164079  1.41904849]]\n"
     ]
    }
   ],
   "source": [
    "def normalize_data(A, norm_type):\n",
    "    # \"copies\" A\n",
    "    B = A\n",
    "    num_cols = A.shape[1]\n",
    "    \n",
    "    # Iterate over columns\n",
    "    for j in range(num_cols):\n",
    "        # pick out j-th column\n",
    "        X = B[:,j]\n",
    "        \n",
    "        # perform normalization\n",
    "        if(norm_type==\"[0,1]\"):\n",
    "            Z = (X - np.min(X))/(np.max(X) - np.min(X))\n",
    "            \n",
    "        elif(norm_type==\"[-1,1]\"):\n",
    "            Z = 2*(X - np.min(X))/(np.max(X) - np.min(X)) - 1\n",
    "                \n",
    "        elif(norm_type==\"z\"):\n",
    "            Z = (X - np.mean(X))/np.std(X)\n",
    "            \n",
    "        else:\n",
    "            print(\"Unknown norm type!\")\n",
    "            return\n",
    "        \n",
    "        # set the j-th column  to its normalized version\n",
    "        B[:,j] = Z\n",
    "    \n",
    "    # return the normalized matrix\n",
    "    return B\n",
    "\n",
    "# Initialze A to something\n",
    "Z = np.array(A_list_of_lists)\n",
    "# Normalize the columns of A\n",
    "W = normalize_data(Z, 'z')\n",
    "\n",
    "# Print results\n",
    "print(\"W = \")\n",
    "print(W)\n",
    "print(\"Z = \")\n",
    "print(Z)"
   ]
  },
  {
   "cell_type": "markdown",
   "metadata": {},
   "source": [
    "We see that the matrix `W` contains the normalized columns of `Z`. But we also see that `Z` is changed too! This has something to do with how Python deals with arguments passed to functions. The matrix was `Z` was passed to the function `normalize_data`. In this function, we refer to it as `A`, but it's important to know that it will refer to the exact same matrix as `Z` does. Any manipulation to `A` in `normalize_data` will be reflected in `Z` as well. \n",
    "\n",
    "But you may say: we didn't manipulate `A`. We manipulated `B`, which was set equal to `A` at the beginning of `normalize_data`. The exact same phenomenon happens here, though. We didn't copy the entries of `A` into `B`, we simply provided an alias to `A` that we call `B`. So in turn, `A`, `B` and `Z` all refer to the exact same matrix. Any change in one will be reflected in the others.\n",
    "\n",
    "To fix this, you need to actually copy the elements of `A` into a new matrix, that we'll call `B`. To do this, you need to call the `numpy.copy` function. So instead of `B = A`, you should really call `B = np.copy(A)`."
   ]
  },
  {
   "cell_type": "code",
   "execution_count": 50,
   "metadata": {},
   "outputs": [
    {
     "name": "stdout",
     "output_type": "stream",
     "text": [
      "W = \n",
      "[[-1.34164079 -1.34164079 -1.28390102]\n",
      " [-0.4472136  -0.4472136  -0.47301616]\n",
      " [ 0.4472136   0.4472136   0.33786869]\n",
      " [ 1.34164079  1.34164079  1.41904849]]\n",
      "Z = \n",
      "[[ 1.  2.  3.]\n",
      " [ 4.  5.  6.]\n",
      " [ 7.  8.  9.]\n",
      " [10. 11. 13.]]\n"
     ]
    }
   ],
   "source": [
    "# new version, which doesn't alter the original matrix\n",
    "def normalize_data(A, norm_type):\n",
    "    # actually copies A\n",
    "    B = np.copy(A)\n",
    "    num_cols = A.shape[1]\n",
    "    \n",
    "    # Iterate over columns\n",
    "    for j in range(num_cols):\n",
    "        # pick out j-th column\n",
    "        X = B[:,j]\n",
    "        \n",
    "        # perform normalization\n",
    "        if(norm_type==\"[0,1]\"):\n",
    "            Z = (X - np.min(X))/(np.max(X) - np.min(X))\n",
    "            \n",
    "        elif(norm_type==\"[-1,1]\"):\n",
    "            Z = 2*(X - np.min(X))/(np.max(X) - np.min(X)) - 1\n",
    "                \n",
    "        elif(norm_type==\"z\"):\n",
    "            Z = (X - np.mean(X))/np.std(X)\n",
    "            \n",
    "        else:\n",
    "            print(\"Unknown norm type!\")\n",
    "            return\n",
    "        \n",
    "        # set the j-th column  to its normalized version\n",
    "        B[:,j] = Z\n",
    "    \n",
    "    # return the normalized matrix\n",
    "    return B\n",
    "\n",
    "# Initialze A to something\n",
    "Z = np.array(A_list_of_lists)\n",
    "# Normalize the columns of A\n",
    "W = normalize_data(Z, 'z')\n",
    "\n",
    "# Print results\n",
    "print(\"W = \")\n",
    "print(W)\n",
    "print(\"Z = \")\n",
    "print(Z)"
   ]
  },
  {
   "cell_type": "markdown",
   "metadata": {},
   "source": [
    "Now we see that `Z` isn't changed."
   ]
  },
  {
   "cell_type": "markdown",
   "metadata": {},
   "source": [
    "## Design matrices\n",
    "\n",
    "Recall that a crucial part of linear regression is in deciding which basis functions we would like to use to write \n",
    "\n",
    "$$ y = \\sum_{j=1}^n \\theta_j \\phi_j(\\mathbf x). $$\n",
    "\n",
    "In class, we looked at some common basis functions for the case when the input $\\mathbf x$ was just a scalar quantity, $\\mathbf x = x$. Examples include the monomial (or power series) basis:\n",
    "$$ \\phi_j = x^j,$$\n",
    "or the Chebyshev polynomials:\n",
    "$$ \\phi_j(x) = T_j(x) = \\cos( j \\cdot \\text{arccos} x)$$\n",
    "or the Fourier basis (which consists of two sets of functions):\n",
    "$$ \\phi_j(x) = \\cos(jx) $$\n",
    "$$ \\psi_j(x) = \\sin(jx) $$\n",
    "\n",
    "To perform the least-squares regression, we had to build the **design matrix** $\\Phi$ which is defined as\n",
    "\n",
    "$$ \\Phi_{i,j} = \\phi_j(\\mathbf x_i),$$\n",
    "\n",
    "where $\\mathbf x_i$ is the input variable(s) corresponding to the $i$-th data point. We saw in class that in the case of the monomial basis, the design matrix had a special name called the **Vandermonde** matrix, and that `numpy`  had a special function to construct this called `numpy.vander`.\n",
    "\n",
    "For other bases, we aren't so lucky, and so we have to manually construct our design matrices. For example, let's build a design matrix for the Fourier series:\n",
    "$$ y = \\gamma + \\sum_{j=1}^n \\alpha_j \\cos(jx) + \\sum_{j=1}^n \\beta_j \\sin(jx),$$\n",
    "Here $\\theta = (\\gamma, \\alpha_1, ..., \\alpha_n, \\beta_1, ... \\beta_n)$\n",
    "\n",
    "### Exercise: Build the Fourier Design Matrix"
   ]
  },
  {
   "cell_type": "code",
   "execution_count": 51,
   "metadata": {},
   "outputs": [],
   "source": [
    "# X = data, numbers between -pi and pi\n",
    "def build_fourier_design_matrix(X, n):\n",
    "    # We're going to think of the matrix Phi = [1 C S]\n",
    "    # as a concatenation of 3 parts:\n",
    "    #   1: the all ones vector \n",
    "    #   2: The cosine basis functions\n",
    "    #   3: The sine basis functions\n",
    "    \n",
    "    num_data_points = X.shape[0]\n",
    "    \n",
    "    # Build the cos part:\n",
    "    # C[i,j] = cos(j*X[i])\n",
    "    C = np.zeros([num_data_points, n ])\n",
    "    for i in range(num_data_points):\n",
    "        for j in range(n):\n",
    "            C[i,j] = np.cos(j*X[i])\n",
    "    \n",
    "    # Build the sin part:\n",
    "    # S[i,j] = sin(j*X[i])\n",
    "    S = np.zeros([num_data_points, n ])\n",
    "    for i in range(num_data_points):\n",
    "        for j in range(n):\n",
    "            S[i,j] = np.sin(j*X[i])\n",
    "            \n",
    "    # Build the all ones vector:\n",
    "    ones = np.ones([num_data_points, 1])\n",
    "    \n",
    "    # concatenate them together with the np.concatenate function\n",
    "    # Here, axis=1 tells the concatenate function to put the\n",
    "    # matrices together side-by-side, and not on top of each other.\n",
    "    Phi = np.concatenate((ones, S, C), axis=1)\n",
    "    \n",
    "    return Phi\n",
    "    "
   ]
  },
  {
   "cell_type": "markdown",
   "metadata": {},
   "source": [
    "Now let's test this out on some data. We'll use as our ground truth some function:\n",
    "\n",
    "$$y = 3 + \\cos(x) - \\sin(2x) + 0.5\\sin(3x)$$\n"
   ]
  },
  {
   "cell_type": "code",
   "execution_count": 53,
   "metadata": {},
   "outputs": [
    {
     "data": {
      "text/plain": [
       "<matplotlib.legend.Legend at 0x1116c1d30>"
      ]
     },
     "execution_count": 53,
     "metadata": {},
     "output_type": "execute_result"
    },
    {
     "data": {
      "image/png": "[encoded data removed]",
      "text/plain": [
       "<Figure size 432x288 with 1 Axes>"
      ]
     },
     "metadata": {},
     "output_type": "display_data"
    }
   ],
   "source": [
    "# pick some random x values between -pi to pi. we can use numpy.random.uniform to do this.\n",
    "x_data = np.random.uniform(-np.pi, np.pi, 100)\n",
    "\n",
    "# evaluate the ground truth (here we can use numpy.sin and numpy.cos)\n",
    "y_truth = 3 + np.cos(x_data) - np.sin(2*x_data) + 0.5*np.sin(3*x_data)\n",
    "\n",
    "# Add noise iid noise N(0, 0.3^2) noise to y\n",
    "W = np.random.normal(0, 0.3, 100)\n",
    "\n",
    "y_obs = y_truth + W\n",
    "\n",
    "plt.scatter(x_data, y_truth)\n",
    "plt.scatter(x_data, y_obs)\n",
    "plt.legend((['Truth', 'Observations']))"
   ]
  },
  {
   "cell_type": "code",
   "execution_count": 55,
   "metadata": {},
   "outputs": [
    {
     "data": {
      "text/plain": [
       "<matplotlib.legend.Legend at 0x111b8e780>"
      ]
     },
     "execution_count": 55,
     "metadata": {},
     "output_type": "execute_result"
    },
    {
     "data": {
      "image/png": "[encoded data removed]",
      "text/plain": [
       "<Figure size 432x288 with 1 Axes>"
      ]
     },
     "metadata": {},
     "output_type": "display_data"
    }
   ],
   "source": [
    "# now build the design matrix and run least squares.\n",
    "Phi = build_fourier_design_matrix(x_data, 4)\n",
    "res = np.linalg.lstsq(Phi, y_obs, rcond=None)\n",
    "theta = res[0]\n",
    "\n",
    "# Look at the model fit y_model = Phi*theta\n",
    "y_model = np.matmul(Phi, theta)\n",
    "\n",
    "# Plot the model, observations and true values together\n",
    "plt.scatter(x_data, y_model)\n",
    "plt.scatter(x_data, y_obs)\n",
    "plt.scatter(x_data, y_truth)\n",
    "plt.legend((['Model', 'Observations', 'Truth']))"
   ]
  },
  {
   "cell_type": "markdown",
   "metadata": {},
   "source": [
    "## Multiple input variables\n",
    "\n",
    "In many instances, we have several input variables, instead of just 1. In many respects, nothing really changes from the single-variable case. We just have to define basis functions that take in several variables, and return a number.\n",
    "\n",
    "One common multi-variable family of basis functions are **Radial Basis Functions**. Radial basis functions are really functions of the distance between their inputs and some fixed points in the domain.\n",
    "\n",
    "For example, if we fix a set of $n$ points $\\mathbf z_1, ..., \\mathbf z_n$ of the same dimensionality as the input variables $\\mathbf x_1, ..., \\mathbf x_D$, we can define the so-called **Gaussian Radial Basis Functions**:\n",
    "\n",
    "$$ \\phi_j(\\mathbf x) = \\exp\\left[-\\frac{\\|\\mathbf x - \\mathbf z_j\\|_2^2}{a^2}\\right]$$\n",
    "\n",
    "where $a$ is a parameter.\n",
    "\n",
    "### Exercise: Implement the Guassian Radial Basis Function:"
   ]
  },
  {
   "cell_type": "code",
   "execution_count": 63,
   "metadata": {},
   "outputs": [],
   "source": [
    "def gauss_rbf(x, z, a=1):\n",
    "    return np.exp(-np.linalg.norm(x-z)**2/a**2)"
   ]
  },
  {
   "cell_type": "markdown",
   "metadata": {},
   "source": [
    "Once we have the gauss_rbf implemented, we can form the corresponding design matrix\n",
    "\n",
    "### Exercise: Build the Gaussian RBF Design Matrix\n"
   ]
  },
  {
   "cell_type": "code",
   "execution_count": 66,
   "metadata": {},
   "outputs": [],
   "source": [
    "# X is a m x D array of input vectors, each row corresponding to a different data point\n",
    "# Z is an n x D array of fixed points, each row corresponding to a different fixed point\n",
    "\n",
    "def build_gaussian_design_matrix(X, Z, a=1):\n",
    "    m = X.shape[0]\n",
    "    D = X.shape[1]\n",
    "    n = Z.shape[0]\n",
    "    \n",
    "    Phi = np.zeros([m, n])\n",
    " \n",
    "    # iterate over all data points\n",
    "    for i in range(m):\n",
    "        # Get the i-th data point\n",
    "        X_i = X[i, :]\n",
    "        \n",
    "        # iterate over all basis functions (equiv. all fixed points)\n",
    "        for j in range (n):\n",
    "            # Get the j-th fixed point\n",
    "            Z_j = Z[j, :]\n",
    "            \n",
    "            # Phi[i,j] = j-th basis function evaluated at the i-th data point\n",
    "            Phi[i,j] = gauss_rbf(X_i, Z_j, a)\n",
    "            \n",
    "    return Phi"
   ]
  },
  {
   "cell_type": "markdown",
   "metadata": {},
   "source": [
    "Once we built this, we can try fitting some data. You can load the data file `creep_rupture_tests.txt`. This data file has 31 columns. The `Y = data[:,1]` variable is in column 1. The `X = data[:, 2:31]` variables are in columns 2 to 30.\n",
    "\n",
    "### Exercise: Use least squares regression to fit the data.\n",
    "1. Seperate the data into testing (first 1000 points), validation (next 500 points) and testing (remaining points) sets.\n",
    "\n",
    "2. For n fixed points, use the first $n$ points in the training data.\n",
    "\n",
    "3. Measure how good the trained model does on the validation testing set.\n",
    "\n",
    "\n"
   ]
  },
  {
   "cell_type": "code",
   "execution_count": 95,
   "metadata": {},
   "outputs": [
    {
     "name": "stdout",
     "output_type": "stream",
     "text": [
      "R2 = 0.2519470730400447\n"
     ]
    }
   ],
   "source": [
    "data = np.loadtxt('creep_rupture_tests.txt')\n",
    "\n",
    "# It's sometimes good to randomly shuffle your data\n",
    "# to get rid of any effect of order in the data set\n",
    "# The numpy.random.shuffle function will randomly\n",
    "# permute rows\n",
    "np.random.shuffle(data)\n",
    "\n",
    "# Get the first 1000 rows, but only the first column\n",
    "train_Y = data[0:1000, 1]\n",
    "\n",
    "# Get the first 1000 rows, and columns 2 to 30\n",
    "train_X = data[0:1000, 2:31]\n",
    "\n",
    "# Get rows 1000 to 1500, but only the first column\n",
    "validate_Y = data[1000:1500, 1]\n",
    "\n",
    "# Get rows 1000 to 1500, and columns 2 to 30\n",
    "validate_X = data[1000:1500, 2:31]\n",
    "\n",
    "# fixed points will be the first n points in training set, copy all columns\n",
    "n = 500\n",
    "fixed_points = train_X[0:n, :]\n",
    "\n",
    "# build design matrices, we'll use the default value of the parameter a\n",
    "Phi_train = build_gaussian_design_matrix(train_X, fixed_points)\n",
    "Phi_validate = build_gaussian_design_matrix(validate_X, fixed_points)\n",
    "\n",
    "# find least squares solution using training set\n",
    "res = np.linalg.lstsq(Phi_train, train_Y, rcond=None)\n",
    "theta_ls = res[0]\n",
    "\n",
    "# apply model to testing set\n",
    "validate_Y_model = np.matmul(Phi_validate, theta_ls)\n",
    "\n",
    "# let's measure R-squared value as our validation metric\n",
    "# To do this, we'll use the sklearn.metrics library\n",
    "from sklearn import metrics\n",
    "r2 = metrics.r2_score(validate_Y, validate_Y_model)\n",
    "print(\"R2 = \" + str(r2))"
   ]
  },
  {
   "cell_type": "markdown",
   "metadata": {},
   "source": [
    "It's not a great validation score. How does the score change as we vary the scale parameter `a` (which is an input to `build_gaussian_design_matrix`)? Try different values of `a` at different magnitudes, e.g. `a = 0.1, 1, 10, 100, 1000, 10000` etc."
   ]
  },
  {
   "cell_type": "markdown",
   "metadata": {},
   "source": [
    "Let's plot model prediction vs observations (a Y-Y plot):"
   ]
  },
  {
   "cell_type": "code",
   "execution_count": 96,
   "metadata": {},
   "outputs": [
    {
     "data": {
      "text/plain": [
       "Text(0,0.5,'Actual Observations')"
      ]
     },
     "execution_count": 96,
     "metadata": {},
     "output_type": "execute_result"
    },
    {
     "data": {
      "image/png": "[encoded data removed]",
      "text/plain": [
       "<Figure size 432x288 with 1 Axes>"
      ]
     },
     "metadata": {},
     "output_type": "display_data"
    }
   ],
   "source": [
    "plt.scatter(validate_Y_model, validate_Y)\n",
    "plt.xlabel('Model Predicted')\n",
    "plt.ylabel('Actual Observations')"
   ]
  }
 ],
 "metadata": {
  "kernelspec": {
   "display_name": "Python 3",
   "language": "python",
   "name": "python3"
  },
  "language_info": {
   "codemirror_mode": {
    "name": "ipython",
    "version": 3
   },
   "file_extension": ".py",
   "mimetype": "text/x-python",
   "name": "python",
   "nbconvert_exporter": "python",
   "pygments_lexer": "ipython3",
   "version": "3.6.5"
  }
 },
 "nbformat": 4,
 "nbformat_minor": 2
}
