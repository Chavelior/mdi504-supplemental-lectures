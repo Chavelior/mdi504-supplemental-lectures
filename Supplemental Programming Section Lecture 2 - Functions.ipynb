{
 "cells": [
  {
   "cell_type": "markdown",
   "metadata": {},
   "source": [
    "## Plotting normal distributions\n",
    "\n",
    "Let's plot the pdfs of some univariate normal distributions. Recall that the pdf of a univariate normal distribution with mean $\\mu$ and and variance $\\sigma^2$ is given by:\n",
    "\n",
    "<p>\n",
    "<center> $$f_X(x) = \\frac{1}{\\sqrt{2 \\pi \\sigma^2}} \\exp\\left[-\\frac{(x-\\mu)^2}{2\\sigma^2}\\right]$$ </center>\n",
    "</p>\n",
    "\n",
    "\n",
    "Let's plot this for several choices of parameters $\\mu$ and $\\sigma^2$. First, we'll import the external libraries that we need."
   ]
  },
  {
   "cell_type": "code",
   "execution_count": null,
   "metadata": {},
   "outputs": [],
   "source": [
    "# numpy lets us do some calculation on several quantities at a time so we'll import it\n",
    "import numpy as np\n",
    "\n",
    "# matplotlib.pyplot lets us make some plots\n",
    "import matplotlib.pyplot as plt\n",
    "\n",
    "# Some utility values and functions such as pi\n",
    "import math\n",
    "\n",
    "# The following line lets us make interactive plots in Jupyter notebooks\n",
    "%matplotlib notebook"
   ]
  },
  {
   "cell_type": "markdown",
   "metadata": {},
   "source": [
    "We want to plot $f_X(x)$, the pdf for the standard normal distribution. To do this, we need to specify a set of $x$ values for which to calculate $f_X(x)$.\n",
    "\n",
    "First, we'll specify a **list** of x values between -3 and 3"
   ]
  },
  {
   "cell_type": "code",
   "execution_count": null,
   "metadata": {},
   "outputs": [],
   "source": [
    "x_arr = [-3, -2, -1, 0, 1, 2, 3]\n",
    "print(x_arr)\n",
    "print(type(x_arr))"
   ]
  },
  {
   "cell_type": "markdown",
   "metadata": {},
   "source": [
    "Now we want to calculate the pdf values $f_X(x)$ for each $x$ in our list. There are lots of ways to do this, including manually doing this. We don't want to do this. Instead, we'll perform the same operations to each element in the array. To do this, we'll turn `x_arr` into a *numpy array*."
   ]
  },
  {
   "cell_type": "code",
   "execution_count": null,
   "metadata": {},
   "outputs": [],
   "source": [
    "x = np.array(x_arr)\n",
    "print(x)\n",
    "print(type(x))"
   ]
  },
  {
   "cell_type": "markdown",
   "metadata": {},
   "source": [
    "Now we'll calculate the pdf values, assuming $\\mu = 0$ and $\\sigma^2 = 1$"
   ]
  },
  {
   "cell_type": "code",
   "execution_count": null,
   "metadata": {},
   "outputs": [],
   "source": [
    "# (x-mu)^2 / 2 sigma^2\n",
    "exponent = -(x-0)*(x-0) / (2*1)\n",
    "\n",
    "print(\"exponent = \")\n",
    "print(exponent)\n",
    "print(type(exponent))\n",
    "print()\n",
    "\n",
    "# the normal pdf values\n",
    "y = 1/(math.sqrt(2*math.pi*1))*np.exp(exponent)\n",
    "\n",
    "print(\"y = \")\n",
    "print(y)\n",
    "print(type(y))"
   ]
  },
  {
   "cell_type": "markdown",
   "metadata": {},
   "source": [
    "Noticed we used some external **functions** and **constants**. A Python function takes input arguments and performs some calculation, and may *return* a value.\n",
    "\n",
    "For example we used `math.sqrt` which takes a number `2*math.pi*1` as an input argument and returns the square root of that argument.\n",
    "\n",
    "We did some arithmetic operations on a numpy array, specifically to calcuate the exponent:\n",
    "`(x-0)*(x-0) / (2*1)`\n",
    "Arithmetic operations on numpy arrays are defined to performed on each entry of the array. So the above says \"for each entry in the array, square it and divide by 2, and put the results in a different numpy array called `exponent`\"\n",
    "\n",
    "We also called a **numpy function** `np.exp` which takes a numpy array as inputs and performs some operation -- in this case: exponentiation -- on each of the entries of its input argument.\n",
    "\n",
    "Now we can plot this using `plt.plot`\n"
   ]
  },
  {
   "cell_type": "code",
   "execution_count": null,
   "metadata": {},
   "outputs": [],
   "source": [
    "plt.figure()\n",
    "plt.plot(x, y)"
   ]
  },
  {
   "cell_type": "markdown",
   "metadata": {},
   "source": [
    "This doesn't look like a bell curve. What went wrong?\n",
    "\n",
    "----\n",
    "\n",
    "### EXERCISE 1\n",
    "\n",
    "Try to make the plot look more like a bell curve. What would you change in the above code?\n",
    "\n",
    "----"
   ]
  },
  {
   "cell_type": "code",
   "execution_count": null,
   "metadata": {},
   "outputs": [],
   "source": [
    "# EXERCISE 1 solution\n",
    "\n",
    "\n"
   ]
  },
  {
   "cell_type": "markdown",
   "metadata": {},
   "source": [
    "----\n",
    "\n",
    "Manually typing in the set of x's is tiring. Numpy provides an easy way to generate a numpy array with equally spaced values, the `np.linspace` function, which takes in 3 arguments, the start of the interval, the end of the interval, and how many equally spaced points you wish to include between the start and end of the interval. It returns a numpy array with those equally spaced points."
   ]
  },
  {
   "cell_type": "code",
   "execution_count": null,
   "metadata": {},
   "outputs": [],
   "source": [
    "x = np.linspace(-3, 3, 100)\n",
    "print(x)\n",
    "print(type(x))\n"
   ]
  },
  {
   "cell_type": "code",
   "execution_count": null,
   "metadata": {},
   "outputs": [],
   "source": [
    "exponent = -(x-0)*(x-0) / (2*1)\n",
    "y = 1/(math.sqrt(2*math.pi*1))*np.exp(exponent)\n",
    "\n",
    "# plot the figure\n",
    "plt.figure()\n",
    "plt.plot(x, y)"
   ]
  },
  {
   "cell_type": "markdown",
   "metadata": {},
   "source": [
    "We can make the plot look nicer. Lets add a grid, and label the axis."
   ]
  },
  {
   "cell_type": "code",
   "execution_count": null,
   "metadata": {},
   "outputs": [],
   "source": [
    "plt.grid(True)\n",
    "plt.xlabel('X')\n",
    "plt.ylabel('PDF Value')\n",
    "plt.title('N(0, 1)')"
   ]
  },
  {
   "cell_type": "markdown",
   "metadata": {},
   "source": [
    "----\n",
    "### EXERCISE 2\n",
    "\n",
    "Plot the following pdfs for the following functions over the given ranges.\n",
    "\n",
    "1. N($\\mu=50$, $\\sigma^2 = 100$) over the interval $[0, 100]$.\n",
    "1. N($\\mu=-2$, $\\sigma^2 = 16$) over the interval $[-20, 20]$.\n",
    "1. N($\\mu=10$, $\\sigma^2 = 4$) over the interval $[0, 50]$.\n",
    "\n",
    "Make sure the plots are properly labeled.\n",
    "\n",
    "----\n"
   ]
  },
  {
   "cell_type": "code",
   "execution_count": null,
   "metadata": {},
   "outputs": [],
   "source": [
    "# Exercise 2 Solution\n",
    "\n",
    "\n"
   ]
  },
  {
   "cell_type": "markdown",
   "metadata": {},
   "source": [
    "----\n",
    "\n",
    "## Functions\n",
    "\n",
    "Usually, when you find your self copy and pasting code, it's best to turn that block of code into a separate **Python function.** Then wherever you need that function's functionality, just call it.\n",
    "\n",
    "Let's define a function called `plot_normal` distribution. It should take as inputs:\n",
    "1. The mean value $\\mu$\n",
    "2. The variance $\\sigma^2$\n",
    "3. The start of the interval $a$\n",
    "4. The end of the interval $b$\n",
    "\n",
    "It should plot the normal distribution $N(\\mu, \\sigma^2)$ over the interval $[a, b]$. And it should make the plot look nice.\n",
    "\n",
    "Python functions are defined by the `def` keyword. Then the name of the function and the list of input arguments. We can always refer to these argumens anywhere in the function code. **The function code must be indented.**"
   ]
  },
  {
   "cell_type": "code",
   "execution_count": null,
   "metadata": {},
   "outputs": [],
   "source": [
    "# Let's write the function together:\n",
    "\n",
    "def plot_normal(mu, sigma_2, a, b):\n",
    "    # write the code here\n",
    "    "
   ]
  },
  {
   "cell_type": "markdown",
   "metadata": {},
   "source": [
    "With the function defined, we can call it like we've been calling other functions, making sure we're passing in the correct input arguments.\n",
    "\n"
   ]
  },
  {
   "cell_type": "code",
   "execution_count": null,
   "metadata": {},
   "outputs": [],
   "source": [
    "plot_normal(50, 100, 0, 100)\n",
    "\n",
    "plot_normal(-2, 16, -20, 20)\n",
    "\n",
    "plot_normal(10, 4, 0, 50)"
   ]
  },
  {
   "cell_type": "markdown",
   "metadata": {},
   "source": [
    "### Optional, Keyword arguments\n",
    "\n",
    "Maybe we wish to plot several distributions on the same plot. Right now, we can't do that with `plot_normal` function because the command `plt.figure()` to generate a new plot is hard coded into the function. Let's let the user specify whether or not to make a new plot by passing in a boolean flag. "
   ]
  },
  {
   "cell_type": "code",
   "execution_count": null,
   "metadata": {},
   "outputs": [],
   "source": [
    "def plot_normal(mu, sigma_2, a, b, make_new_figure):\n",
    "    # Change code below"
   ]
  },
  {
   "cell_type": "markdown",
   "metadata": {},
   "source": [
    "Here we used an **`if` statement** to check if make_new_figure was set to true. \n",
    "\n",
    "```\n",
    "if(make_new_figure == True):\n",
    "    plt.figure()\n",
    "```\n",
    "\n",
    "If the condition `make_new_figure == True` is `True`, then the code inside the `if` statement (i.e. `plt.figure()`) will be executed. Otherwise it won't. \n",
    "\n",
    "In fact checking if a Boolean value is set to True is redundant. We could have simply stated\n",
    "\n",
    "```\n",
    "if(make_new_figure):\n",
    "    plt.figure()\n",
    "```\n",
    "\n",
    "Again, if `make_new_figure` is `True`, the code inside the `if` statement will be executed."
   ]
  },
  {
   "cell_type": "markdown",
   "metadata": {},
   "source": [
    "Now we can call plot_normal and specify whether we want a new figure."
   ]
  },
  {
   "cell_type": "code",
   "execution_count": null,
   "metadata": {},
   "outputs": [],
   "source": [
    "plot_normal(50, 100, 0, 100, True)\n",
    "\n",
    "plot_normal(-2, 16, -20, 20, False)\n",
    "\n",
    "plot_normal(10, 4, 0, 50, True)"
   ]
  },
  {
   "cell_type": "markdown",
   "metadata": {},
   "source": [
    "----\n",
    "\n",
    "### EXERCISE 3\n",
    "\n",
    "Change `plot_normal` to accept another Boolean flag `make_grid` to indicate whether or not to include the grid in the plot.\n",
    "\n",
    "----"
   ]
  },
  {
   "cell_type": "code",
   "execution_count": null,
   "metadata": {},
   "outputs": [],
   "source": [
    "# Solution to Exercise 3 here\n",
    "\n",
    "\n"
   ]
  },
  {
   "cell_type": "code",
   "execution_count": null,
   "metadata": {},
   "outputs": [],
   "source": [
    "# Call the modified plot_normal function here\n"
   ]
  },
  {
   "cell_type": "markdown",
   "metadata": {},
   "source": [
    "----\n",
    "\n",
    "With our new code, we can fully specify whether to 1) make a new figure and 2) plot the grid. However, it may be cumbersome to always include this, especially if we know that the typical case is to plot using a new figure and to include the grid. What we'd like to do is specify **default (or automatic) behavior**. \n",
    "\n",
    "To do this, we'll include default values in the function definition:"
   ]
  },
  {
   "cell_type": "code",
   "execution_count": null,
   "metadata": {},
   "outputs": [],
   "source": [
    "def plot_normal(mu, sigma_2, a, b, make_new_figure = True, make_grid = True):\n",
    "    # Change code below"
   ]
  },
  {
   "cell_type": "markdown",
   "metadata": {},
   "source": [
    "When we specify default values for input arguments, those arguments become **optional**. That is, we don't have to specify their values when we call the function. When the values are not included, the default values of the arguments are used."
   ]
  },
  {
   "cell_type": "code",
   "execution_count": null,
   "metadata": {},
   "outputs": [],
   "source": [
    "plot_normal(50, 100, 0, 100)\n",
    "\n",
    "plot_normal(-2, 16, -20, 20)\n",
    "\n",
    "plot_normal(10, 4, 0, 50)"
   ]
  },
  {
   "cell_type": "markdown",
   "metadata": {},
   "source": [
    "If we want to deviate from default behavior, we can specify the value using **keywords**."
   ]
  },
  {
   "cell_type": "code",
   "execution_count": null,
   "metadata": {},
   "outputs": [],
   "source": [
    "plot_normal(50, 100, 0, 100, make_grid = False)\n",
    "\n",
    "plot_normal(-2, 16, -20, 20, make_new_figure = False, make_grid=False)\n",
    "\n",
    "plot_normal(10, 4, 0, 50)"
   ]
  },
  {
   "cell_type": "markdown",
   "metadata": {},
   "source": [
    "In the above code, optional arguments were all Boolean variables. In fact, any type of input argument can be made optional by specifying their default values. The only rule is that in the function definition, all required arguments (those without a default value) must come before the optional arguments in the list of input arguments. So for example, the following is **not** valid code:\n",
    "\n",
    "`def plot_normal(mu = 0, sigma_2, a, b, make_new_figure = True, make_grid = True):`\n",
    "\n",
    "Instead you must move all optional arguments to the end\n",
    "\n",
    "`def plot_normal(sigma_2, a, b, mu = 0 make_new_figure = True, make_grid = True):`\n",
    "\n"
   ]
  }
 ],
 "metadata": {
  "kernelspec": {
   "display_name": "Python 3",
   "language": "python",
   "name": "python3"
  },
  "language_info": {
   "codemirror_mode": {
    "name": "ipython",
    "version": 3
   },
   "file_extension": ".py",
   "mimetype": "text/x-python",
   "name": "python",
   "nbconvert_exporter": "python",
   "pygments_lexer": "ipython3",
   "version": "3.6.5"
  }
 },
 "nbformat": 4,
 "nbformat_minor": 2
}
