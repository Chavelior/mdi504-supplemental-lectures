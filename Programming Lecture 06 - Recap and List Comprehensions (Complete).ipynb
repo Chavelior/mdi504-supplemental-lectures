{
 "cells": [
  {
   "cell_type": "markdown",
   "metadata": {},
   "source": [
    "# A recap of what we've seen so far\n",
    "\n",
    "\n",
    "## Variables\n",
    "\n",
    "* Numbers (integer and floats)\n"
   ]
  },
  {
   "cell_type": "code",
   "execution_count": 1,
   "metadata": {},
   "outputs": [],
   "source": [
    "# Defining numbers\n",
    "x = 5\n",
    "y = 2.5\n",
    "\n",
    "# Operations on numbers\n",
    "z = x + y\n",
    "w = z**2\n",
    "\n",
    "# other functions defined in math module (also in numpy)\n",
    "import math\n",
    "g = math.exp(w)\n",
    "h = math.sin(math.sqrt(g))\n"
   ]
  },
  {
   "cell_type": "markdown",
   "metadata": {},
   "source": [
    "* Boolean (True and False values)"
   ]
  },
  {
   "cell_type": "code",
   "execution_count": 2,
   "metadata": {},
   "outputs": [
    {
     "name": "stdout",
     "output_type": "stream",
     "text": [
      "b3 = False\n",
      "b4 = True\n",
      "b5 = False\n"
     ]
    }
   ],
   "source": [
    "# Defining booleans using True and False\n",
    "b1 = True\n",
    "b2 = False\n",
    "\n",
    "# Defining booleans using conditional expressions:\n",
    "b3 = 5 > 6\n",
    "print(\"b3 = \" + str(b3))\n",
    "\n",
    "# Combining conditional expressions using logical operators\n",
    "b4 = (x > y) or (z == 10)\n",
    "print(\"b4 = \" + str(b4))\n",
    "\n",
    "b5 = (x > y) and (z == 10)\n",
    "print(\"b5 = \" + str(b5))"
   ]
  },
  {
   "cell_type": "markdown",
   "metadata": {},
   "source": [
    "* Strings"
   ]
  },
  {
   "cell_type": "code",
   "execution_count": 3,
   "metadata": {},
   "outputs": [
    {
     "name": "stdout",
     "output_type": "stream",
     "text": [
      "Hello World\n",
      "This is a string\n",
      "swoswoswoswoswo\n"
     ]
    }
   ],
   "source": [
    "msg = \"Hello World\"\n",
    "print(msg)\n",
    "\n",
    "# concatenating strings with +\n",
    "msg1 = \"This is\"\n",
    "msg2 = \"a string\"\n",
    "msg3 = msg1 + \" \" + msg2\n",
    "print(msg3)\n",
    "\n",
    "# repeating strings with *\n",
    "msg4 = \"swo\"\n",
    "print(msg4*5)"
   ]
  },
  {
   "cell_type": "markdown",
   "metadata": {},
   "source": [
    "### Collections of values\n",
    "\n",
    "* `numpy` arrays and matrices"
   ]
  },
  {
   "cell_type": "code",
   "execution_count": 4,
   "metadata": {},
   "outputs": [
    {
     "name": "stdout",
     "output_type": "stream",
     "text": [
      "a = [1 2 3 4 5]\n"
     ]
    }
   ],
   "source": [
    "import numpy as np\n",
    "import matplotlib.pyplot as plt\n",
    "\n",
    "# a numpy array from a list of numbers\n",
    "a = np.array([1, 2, 3, 4, 5])\n",
    "print(\"a = \" + str(a))"
   ]
  },
  {
   "cell_type": "code",
   "execution_count": 5,
   "metadata": {},
   "outputs": [
    {
     "name": "stdout",
     "output_type": "stream",
     "text": [
      "b = [0 2 4 6 8]\n",
      "c = [ 0.  5. 10.]\n"
     ]
    }
   ],
   "source": [
    "# a numpy array using some built-in functions\n",
    "\n",
    "# numbers in [0, 10), stepping by 2\n",
    "b = np.arange(0, 10, 2)\n",
    "print(\"b = \" + str(b))\n",
    "\n",
    "# 3 equally spaced numbers in [0, 10]\n",
    "c = np.linspace(0, 10, 3)\n",
    "print(\"c = \" + str(c))"
   ]
  },
  {
   "cell_type": "code",
   "execution_count": 6,
   "metadata": {},
   "outputs": [
    {
     "name": "stdout",
     "output_type": "stream",
     "text": [
      "d = [  1.  10. 100.]\n"
     ]
    }
   ],
   "source": [
    "# 3 logarithmically spaced numbers in [10^0, 10^2]\n",
    "d = np.logspace(0, 2, 3)\n",
    "print(\"d = \" + str(d))"
   ]
  },
  {
   "cell_type": "code",
   "execution_count": 7,
   "metadata": {},
   "outputs": [
    {
     "name": "stdout",
     "output_type": "stream",
     "text": [
      "[ 4.54720226  4.86944828  5.1944267   4.62686369  8.08376115  7.45909928\n",
      "  2.33598904  4.60899186  7.68003673  5.96361106  5.37565307  3.75631687\n",
      "  5.29407187  6.12981887  2.05923462  1.61874936  3.76540734  7.6298464\n",
      "  5.27607517  3.20198219  6.54146844 10.44225144  5.21339537  4.18953606\n",
      "  6.8751326   6.15797757  7.65969033  7.44593095  3.736693    0.47256062\n",
      "  7.14554005  3.87264202  5.07129746  3.04867666  7.62557775  2.89086969\n",
      "  7.32842305  5.9467586   2.64643318  8.83709886  5.80757327  5.09218578\n",
      "  4.97000579  4.55050078  3.95827617  6.35882446  4.21589518  6.63262738\n",
      " -0.48666332  5.66364745  4.20099997  5.57411932  5.01886147  4.70535126\n",
      "  8.57659762  6.40051819  7.10586541  2.76086508  2.46589498  3.04425637\n",
      "  9.32047049  6.13510001  2.45545783 11.82752436  6.17647853  6.78597764\n",
      "  5.26150043  3.25834354  2.82911268  4.40888176  9.53305448  4.41743049\n",
      "  8.47686096  4.80471894  8.90330223  7.64435697  7.43024151  5.71569442\n",
      " -0.37644002  7.45310686  3.80901793  7.88772741  5.51748683  5.00889134\n",
      "  4.00869576  2.05745533  5.4323064   1.95594422  8.34482719  6.19325432\n",
      "  5.10407117  9.0822867   3.06154993  8.34232577  4.53359891  5.89700652\n",
      "  6.1444294   3.0570093   6.75171102  4.82573914]\n"
     ]
    },
    {
     "data": {
      "text/plain": [
       "(array([ 3.,  2., 14., 13., 25., 18., 14.,  8.,  2.,  1.]),\n",
       " array([-0.48666332,  0.74475545,  1.97617422,  3.20759298,  4.43901175,\n",
       "         5.67043052,  6.90184929,  8.13326805,  9.36468682, 10.59610559,\n",
       "        11.82752436]),\n",
       " <a list of 10 Patch objects>)"
      ]
     },
     "execution_count": 7,
     "metadata": {},
     "output_type": "execute_result"
    },
    {
     "data": {
      "image/png": "[encoded data removed]",
      "text/plain": [
       "<Figure size 432x288 with 1 Axes>"
      ]
     },
     "metadata": {},
     "output_type": "display_data"
    }
   ],
   "source": [
    "# 100 samples from N(5, 2^2)\n",
    "samples = np.random.normal(5, 2, 100)\n",
    "print(samples)\n",
    "plt.hist(samples)"
   ]
  },
  {
   "cell_type": "code",
   "execution_count": 8,
   "metadata": {},
   "outputs": [
    {
     "name": "stdout",
     "output_type": "stream",
     "text": [
      "[0.40029716 0.5438573  0.92796892 0.89256471 0.58481339 0.19616765\n",
      " 0.88242301 0.63934706 0.61165773 0.16979543 0.62768064 0.4436158\n",
      " 0.22310024 0.8558826  0.81954754 0.04120108 0.74064325 0.72467353\n",
      " 0.94526811 0.38175358]\n"
     ]
    }
   ],
   "source": [
    "# 20 uniform samples between 0 and 1\n",
    "samples = np.random.random(20)\n",
    "print(samples)"
   ]
  },
  {
   "cell_type": "code",
   "execution_count": 9,
   "metadata": {},
   "outputs": [
    {
     "name": "stdout",
     "output_type": "stream",
     "text": [
      "[6.90070889 6.33951369 9.67744904 8.13836732 6.85134345 4.5669187\n",
      " 9.39291291 4.77694512 7.92152187 9.73858853 7.92792709 6.13710116\n",
      " 9.54118151 4.36118258 9.55627999 6.65609301 6.34414785 5.32237281\n",
      " 7.0792247  8.80056228 7.24362771 4.2326406  8.5368128  9.76872602\n",
      " 4.95243681 9.51348513 8.34588197 6.76788241 8.16799479 7.99329492\n",
      " 9.93619359 5.19412681 9.4040284  7.88754922 7.64361424 8.96541269\n",
      " 5.81843659 7.28165686 9.78728858 7.27097564 5.18684951 7.79625964\n",
      " 6.30505326 7.51243328 4.4740919  5.00362066 4.06337066 4.22603219\n",
      " 5.38099853 9.91104231 8.63140926 6.72324877 7.3380001  6.87156148\n",
      " 7.74867987 4.52996313 6.21139026 9.17172507 5.38128139 4.81590591\n",
      " 6.42889823 4.41920038 7.97927679 7.60494359 4.89839755 8.70197972\n",
      " 4.64538598 4.42828701 9.77732654 8.20176912 9.95277242 5.09871301\n",
      " 8.97959799 5.28063555 8.93508535 5.91829746 7.91859522 8.47679483\n",
      " 6.42271318 6.01112883 7.80596347 4.16659638 6.74422383 4.60185913\n",
      " 8.64548971 9.19220218 8.69971235 6.09812777 6.61531036 5.4305631\n",
      " 9.86594753 6.46301996 5.95782444 5.48396797 7.92670737 8.53640045\n",
      " 6.2717657  4.94443711 9.2320276  5.56216043]\n"
     ]
    },
    {
     "data": {
      "text/plain": [
       "(array([12.,  9.,  8., 10., 11.,  6., 14.,  9.,  7., 14.]),\n",
       " array([4.06337066, 4.65231083, 5.24125101, 5.83019119, 6.41913136,\n",
       "        7.00807154, 7.59701171, 8.18595189, 8.77489207, 9.36383224,\n",
       "        9.95277242]),\n",
       " <a list of 10 Patch objects>)"
      ]
     },
     "execution_count": 9,
     "metadata": {},
     "output_type": "execute_result"
    },
    {
     "data": {
      "image/png": "[encoded data removed]",
      "text/plain": [
       "<Figure size 432x288 with 1 Axes>"
      ]
     },
     "metadata": {},
     "output_type": "display_data"
    }
   ],
   "source": [
    "# 100 uniform samples between 4 and 10\n",
    "samples = (10-4)*np.random.random(100) + 4\n",
    "print(samples)\n",
    "plt.hist(samples)"
   ]
  },
  {
   "cell_type": "code",
   "execution_count": 10,
   "metadata": {},
   "outputs": [
    {
     "name": "stdout",
     "output_type": "stream",
     "text": [
      "[[-0.07194131  0.54296691]\n",
      " [-0.19618529 -2.15771912]\n",
      " [-0.56924182 -0.55720638]\n",
      " [ 0.63265563  1.60574931]\n",
      " [ 0.73860018  0.08319492]]\n"
     ]
    }
   ],
   "source": [
    "# A 5x2 random matrix with iid N(0, 1) entries\n",
    "A = np.random.normal(0, 1, [5,2])\n",
    "print(A)"
   ]
  },
  {
   "cell_type": "code",
   "execution_count": 11,
   "metadata": {},
   "outputs": [
    {
     "name": "stdout",
     "output_type": "stream",
     "text": [
      "[[0. 0. 0.]\n",
      " [0. 0. 0.]\n",
      " [0. 0. 0.]\n",
      " [0. 0. 0.]\n",
      " [0. 0. 0.]\n",
      " [0. 0. 0.]\n",
      " [0. 0. 0.]]\n"
     ]
    }
   ],
   "source": [
    "# An 7 x 3 all zeros matrix (That we may fill up later)\n",
    "Z = np.zeros([7,3])\n",
    "print(Z)"
   ]
  },
  {
   "cell_type": "code",
   "execution_count": 12,
   "metadata": {},
   "outputs": [
    {
     "name": "stdout",
     "output_type": "stream",
     "text": [
      "[[  1.           0.20396458   1.40792916]\n",
      " [  1.           0.48911461   1.97822923]\n",
      " [  1.           0.41472787   1.82945574]\n",
      " [  0.           0.           0.        ]\n",
      " [  1.           0.91981264   2.83962529]\n",
      " [  1.           0.48269584 -10.        ]\n",
      " [  1.           0.02368947   1.04737894]]\n"
     ]
    }
   ],
   "source": [
    "# numpy array indexing\n",
    "\n",
    "# set the 0-th column to all 1s\n",
    "Z[:, 0] = 1\n",
    "\n",
    "# set the 1-st column to random numbers\n",
    "Z[:, 1] = np.random.random(7)\n",
    "\n",
    "# set the 2-nd column to be the 0-th column + 2 times the 1-st column\n",
    "Z[:, 2] = Z[:,0] + 2*Z[:, 1]\n",
    "\n",
    "# Set the 3-rd row to all zeros\n",
    "Z[3,:] = np.zeros([1, 3])\n",
    "\n",
    "# Set the element in the 5 row, 2nd column to -10\n",
    "Z[5, 2] = -10\n",
    "\n",
    "print(Z)\n"
   ]
  },
  {
   "cell_type": "markdown",
   "metadata": {},
   "source": [
    "### To Do (Data Types):\n",
    "* Other collections including Lists, Dictionaries, Tuples and Sets\n",
    "* List comprehensions\n",
    "* Classes"
   ]
  },
  {
   "cell_type": "markdown",
   "metadata": {},
   "source": [
    "## Functions\n",
    "* Reusable blocks of code\n",
    "* Defining functions using the `def` keyword and supplying an argument list\n",
    "* Returning a value using the `return` keyword\n",
    "* Specifying optional arguments and default values"
   ]
  },
  {
   "cell_type": "code",
   "execution_count": 14,
   "metadata": {},
   "outputs": [],
   "source": [
    "def gaussian_rbf(x, mu = 0, sigma = 1):\n",
    "    return np.exp(-(x-mu)**2/(2.0*sigma**2))"
   ]
  },
  {
   "cell_type": "code",
   "execution_count": 15,
   "metadata": {},
   "outputs": [
    {
     "data": {
      "text/plain": [
       "[<matplotlib.lines.Line2D at 0x1162d39e8>]"
      ]
     },
     "execution_count": 15,
     "metadata": {},
     "output_type": "execute_result"
    },
    {
     "data": {
      "image/png": "[encoded data removed]",
      "text/plain": [
       "<Figure size 432x288 with 1 Axes>"
      ]
     },
     "metadata": {},
     "output_type": "display_data"
    }
   ],
   "source": [
    "x = np.linspace(-10, 10, 100)\n",
    "y = gaussian_rbf(x)\n",
    "plt.plot(x, y)"
   ]
  },
  {
   "cell_type": "code",
   "execution_count": 16,
   "metadata": {},
   "outputs": [
    {
     "data": {
      "text/plain": [
       "[<matplotlib.lines.Line2D at 0x116390ba8>]"
      ]
     },
     "execution_count": 16,
     "metadata": {},
     "output_type": "execute_result"
    },
    {
     "data": {
      "image/png": "[encoded data removed]",
      "text/plain": [
       "<Figure size 432x288 with 1 Axes>"
      ]
     },
     "metadata": {},
     "output_type": "display_data"
    }
   ],
   "source": [
    "y = gaussian_rbf(x, mu = -5)\n",
    "plt.plot(x, y)"
   ]
  },
  {
   "cell_type": "code",
   "execution_count": 17,
   "metadata": {},
   "outputs": [
    {
     "data": {
      "text/plain": [
       "[<matplotlib.lines.Line2D at 0x1163eeeb8>]"
      ]
     },
     "execution_count": 17,
     "metadata": {},
     "output_type": "execute_result"
    },
    {
     "data": {
      "image/png": "[encoded data removed]",
      "text/plain": [
       "<Figure size 432x288 with 1 Axes>"
      ]
     },
     "metadata": {},
     "output_type": "display_data"
    }
   ],
   "source": [
    "y = gaussian_rbf(x, sigma = 3)\n",
    "plt.plot(x, y)"
   ]
  },
  {
   "cell_type": "code",
   "execution_count": 18,
   "metadata": {},
   "outputs": [
    {
     "data": {
      "text/plain": [
       "[<matplotlib.lines.Line2D at 0x1165140b8>]"
      ]
     },
     "execution_count": 18,
     "metadata": {},
     "output_type": "execute_result"
    },
    {
     "data": {
      "image/png": "[encoded data removed]",
      "text/plain": [
       "<Figure size 432x288 with 1 Axes>"
      ]
     },
     "metadata": {},
     "output_type": "display_data"
    }
   ],
   "source": [
    "y = gaussian_rbf(x, mu = 5, sigma = 3)\n",
    "plt.plot(x, y)"
   ]
  },
  {
   "cell_type": "markdown",
   "metadata": {},
   "source": [
    "### To Do (Functions):\n",
    "* Other ways to return values\n",
    "* Function scope\n",
    "* Recursion\n",
    "* Parallelization"
   ]
  },
  {
   "cell_type": "markdown",
   "metadata": {},
   "source": [
    "## Control Structures\n",
    "\n",
    "### Conditional execution\n",
    "We saw how to use boolean expressions to determine whether to execute certain parts of our code using the `if ... elif ... else` structure\n",
    "\n",
    "```\n",
    "if (condition):\n",
    "...\n",
    "elif (another condition):\n",
    "..\n",
    "elif (another condition):\n",
    "..\n",
    "else:\n",
    "...\n",
    "```"
   ]
  },
  {
   "cell_type": "code",
   "execution_count": 22,
   "metadata": {},
   "outputs": [
    {
     "name": "stdout",
     "output_type": "stream",
     "text": [
      "p = 0.23368348572558428\n"
     ]
    }
   ],
   "source": [
    "# a plain if statement (run several times)\n",
    "p = np.random.random()\n",
    "\n",
    "if(p < 0.25):\n",
    "    print(\"p = \" + str(p))"
   ]
  },
  {
   "cell_type": "code",
   "execution_count": 27,
   "metadata": {},
   "outputs": [
    {
     "name": "stdout",
     "output_type": "stream",
     "text": [
      "Heads\n"
     ]
    }
   ],
   "source": [
    "# an if-else statement - a biased coin flip\n",
    "p = np.random.random()\n",
    "\n",
    "if(p < 0.45):\n",
    "    print(\"Heads\")\n",
    "else:\n",
    "    print(\"Tails\")"
   ]
  },
  {
   "cell_type": "code",
   "execution_count": 30,
   "metadata": {},
   "outputs": [
    {
     "name": "stdout",
     "output_type": "stream",
     "text": [
      "6\n"
     ]
    }
   ],
   "source": [
    "# an if ... elif ... else statement - a biased die roll\n",
    "\n",
    "p = np.random.random()\n",
    "\n",
    "if(p < 0.1):\n",
    "    print(\"1\")\n",
    "elif(p < 0.2):\n",
    "    print(\"2\")\n",
    "elif(p < 0.3):\n",
    "    print(\"3\")\n",
    "elif(p < 0.4):\n",
    "    print(\"4\")\n",
    "elif(p < 0.5):\n",
    "    print(\"5\")\n",
    "else:\n",
    "    print(\"6\")"
   ]
  },
  {
   "cell_type": "markdown",
   "metadata": {},
   "source": [
    "### Exercise (1D random walk)\n",
    "\n",
    "Imagine a particle on the real number line at position $x$. Every second, it takes a step\n",
    "$$ x \\rightarrow x \\pm s$$\n",
    "for some step size $s$. The sign of the step (i.e. the $\\pm$ above) determines the direction the particle moves. If it moves (for example) like:\n",
    "$$ x \\rightarrow x + s$$\n",
    "this means it moves to the *right* by an amount $s$. If instead, it moves like:\n",
    "$$ x \\rightarrow x - s$$\n",
    "it moves to the **left**. \n",
    "\n",
    "At each step, we'll think of the direction (either left or right) taken as a random variable: with some probability $p$ it steps to the right, and with probability $1-p$ it steps to the left. \n",
    "\n",
    "Write a function `random_walk` to perform a 1D random walk, starting at the position $x = 0$. The function should take the following arguments as input:\n",
    "* the number of steps to take, $n$\n",
    "* an optional step size $s$, with default value 1\n",
    "* an optional number $p$ describing the probability that the particle will move right versus left, with default value of 0.5\n",
    "\n",
    "The function should return the sequence of positions $(x_i)$ the particle visits during its random walk.\n",
    "\n",
    "To help with this, define a function `bernoulli_rv` takes in a probability $p$ and returns a 1 with probability $p$ and a -1 with probability $1-p$"
   ]
  },
  {
   "cell_type": "code",
   "execution_count": 31,
   "metadata": {},
   "outputs": [
    {
     "data": {
      "text/plain": [
       "Text(0,0.5,'Position')"
      ]
     },
     "execution_count": 31,
     "metadata": {},
     "output_type": "execute_result"
    },
    {
     "data": {
      "image/png": "[encoded data removed]",
      "text/plain": [
       "<Figure size 432x288 with 1 Axes>"
      ]
     },
     "metadata": {},
     "output_type": "display_data"
    }
   ],
   "source": [
    "def bernoulli_rv(p):\n",
    "    # return 1 with probability p, -1 with probability 1-p\n",
    "    q = np.random.random()\n",
    "    \n",
    "    if(q < p):\n",
    "        return 1\n",
    "    else:\n",
    "        return -1\n",
    "        \n",
    "        \n",
    "def random_walk(n, s=1, p = 0.5):\n",
    "    positions = np.zeros(n)\n",
    "    \n",
    "    # calculate the position of the particle at each of the n steps\n",
    "    \n",
    "    # iterate over each step (loop)\n",
    "    for i in range(1, n):\n",
    "        \n",
    "        # pick a direction using a coin flip\n",
    "        direction = bernoulli_rv(p)\n",
    "        \n",
    "        # step in that direction\n",
    "        positions[i] = positions[i-1] + direction*s\n",
    "    \n",
    "    return positions\n",
    "\n",
    "\n",
    "pos = random_walk(1000, p = 0.5)\n",
    "plt.plot(pos)\n",
    "plt.xlabel('Time')\n",
    "plt.ylabel('Position')\n"
   ]
  },
  {
   "cell_type": "markdown",
   "metadata": {},
   "source": [
    "### Exercise\n",
    "Write a function `sample_rw_params` that performs $m$ random walks, each using the default values for $p$ and $s$. For each of the random walks, calculate the save the final position, then after the $m$ random walks, calculate the mean and variance of this final position, and return it as a pair of numbers. The function should accept as input arguments\n",
    "\n",
    "1. $m$ the number of random walks to perform\n",
    "2. $n$ the number of steps each random walk should take\n",
    "3. `plot_hist`, an optional Boolean (default: `False`) that indicates if we should plot the histogram of the final position after the $m$ random walks\n"
   ]
  },
  {
   "cell_type": "code",
   "execution_count": 35,
   "metadata": {},
   "outputs": [],
   "source": [
    "def sample_rw_params(m, n, plot_hist=False):\n",
    "    R = np.zeros(m)\n",
    "    \n",
    "    for i in range(m):\n",
    "        pos = random_walk(n)\n",
    "        R[i] = pos[n-1]\n",
    "    \n",
    "    # Calculate mu and sig2 here\n",
    "    mu = np.mean(R)\n",
    "    sig2 = np.var(R)\n",
    "    \n",
    "    # plot the histogram if needed\n",
    "    if(plot_hist):\n",
    "        plt.hist(R)\n",
    "        plt.show()\n",
    "    \n",
    "    return mu, sig2\n"
   ]
  },
  {
   "cell_type": "code",
   "execution_count": 39,
   "metadata": {},
   "outputs": [
    {
     "data": {
      "image/png": "[encoded data removed]",
      "text/plain": [
       "<Figure size 432x288 with 1 Axes>"
      ]
     },
     "metadata": {},
     "output_type": "display_data"
    }
   ],
   "source": [
    "mu, sig2 = sample_rw_params(500, 5000, plot_hist=True)"
   ]
  },
  {
   "cell_type": "markdown",
   "metadata": {},
   "source": [
    "# Python Lists and List Comprehensions\n",
    "\n",
    "* Python lists are **first-class data types** (i.e. they are part of the Python language, and are not defined in some external library like e.g. `numpy` arrays).\n",
    "\n",
    "* Python lists can be lists of Numbers (like `numpy` arrays), Booleans, Strings, or any other data type. Because of this we think of list as a **Collection** data type.\n",
    "\n"
   ]
  },
  {
   "cell_type": "code",
   "execution_count": 40,
   "metadata": {},
   "outputs": [
    {
     "name": "stdout",
     "output_type": "stream",
     "text": [
      "[[0, 10, 20, 30, 40, 50], ['A', 'B', 'CDEFG']]\n",
      "[]\n"
     ]
    }
   ],
   "source": [
    "# A list of numbers\n",
    "number_list = [0, 10, 20, 30, 40, 50]\n",
    "\n",
    "# A list of strings\n",
    "string_list = [\"A\", \"B\", \"CDEFG\"]\n",
    "\n",
    "# A list of lists\n",
    "list_list = [number_list, string_list]\n",
    "print(list_list)\n",
    "\n",
    "# An empty list\n",
    "empty_list = []\n",
    "print(empty_list)"
   ]
  },
  {
   "cell_type": "code",
   "execution_count": 41,
   "metadata": {},
   "outputs": [
    {
     "name": "stdout",
     "output_type": "stream",
     "text": [
      "[array([0.11697404, 0.61446081, 0.10052695, 0.9385113 , 0.78002958]), array([0.87309235, 0.4451108 , 0.22993075, 0.12044389, 0.22080944,\n",
      "       0.46932526, 0.73101605, 0.77415515, 0.83322389, 0.06548286]), array([[0.91400274, 0.42707982, 0.12028702, 0.33112281, 0.21301784,\n",
      "        0.17092261, 0.48101518, 0.9522375 , 0.31591259, 0.5663421 ],\n",
      "       [0.30766037, 0.76150168, 0.33712301, 0.81783023, 0.72032979,\n",
      "        0.6317726 , 0.67207258, 0.93291757, 0.8696005 , 0.86090486],\n",
      "       [0.67510401, 0.85925206, 0.62076165, 0.71636731, 0.15898578,\n",
      "        0.97001908, 0.60440903, 0.77650903, 0.50541363, 0.89326697],\n",
      "       [0.76034887, 0.29852029, 0.61738932, 0.20735487, 0.87316842,\n",
      "        0.76267431, 0.24226076, 0.82877184, 0.6783329 , 0.42479364],\n",
      "       [0.08592784, 0.26245771, 0.46685872, 0.425175  , 0.67646135,\n",
      "        0.60428796, 0.99692876, 0.54415908, 0.38281047, 0.21539037]])]\n"
     ]
    }
   ],
   "source": [
    "# A list of numpy arrays\n",
    "a1 = np.random.random(5)\n",
    "a2 = np.random.random(10)\n",
    "a3 = np.random.random([5, 10])\n",
    "np_list = [a1, a2, a3]\n",
    "print(np_list)"
   ]
  },
  {
   "cell_type": "markdown",
   "metadata": {},
   "source": [
    "Like 1D `numpy` arrays, we can index into a list to extract individual elements:"
   ]
  },
  {
   "cell_type": "code",
   "execution_count": 42,
   "metadata": {},
   "outputs": [
    {
     "name": "stdout",
     "output_type": "stream",
     "text": [
      "2-nd element in number_list = 20\n"
     ]
    }
   ],
   "source": [
    "z = number_list[2]\n",
    "print(\"2-nd element in number_list = \" + str(z))"
   ]
  },
  {
   "cell_type": "markdown",
   "metadata": {},
   "source": [
    "Like 1D `numpy` arrays, lists are **0-indexed** meaning, if a list has e.g. 6 entries, they are indexed by 0, 1, 2, ..., 5, respectively."
   ]
  },
  {
   "cell_type": "code",
   "execution_count": 43,
   "metadata": {},
   "outputs": [
    {
     "name": "stdout",
     "output_type": "stream",
     "text": [
      "0\n"
     ]
    }
   ],
   "source": [
    "print(number_list[0])"
   ]
  },
  {
   "cell_type": "code",
   "execution_count": 44,
   "metadata": {},
   "outputs": [
    {
     "ename": "IndexError",
     "evalue": "list index out of range",
     "output_type": "error",
     "traceback": [
      "\u001b[0;31m---------------------------------------------------------------------------\u001b[0m",
      "\u001b[0;31mIndexError\u001b[0m                                Traceback (most recent call last)",
      "\u001b[0;32m<ipython-input-44-69888de100ec>\u001b[0m in \u001b[0;36m<module>\u001b[0;34m()\u001b[0m\n\u001b[1;32m      1\u001b[0m \u001b[0;31m# This will result in an error\u001b[0m\u001b[0;34m\u001b[0m\u001b[0;34m\u001b[0m\u001b[0m\n\u001b[0;32m----> 2\u001b[0;31m \u001b[0mprint\u001b[0m\u001b[0;34m(\u001b[0m\u001b[0mnumber_list\u001b[0m\u001b[0;34m[\u001b[0m\u001b[0;36m6\u001b[0m\u001b[0;34m]\u001b[0m\u001b[0;34m)\u001b[0m\u001b[0;34m\u001b[0m\u001b[0m\n\u001b[0m",
      "\u001b[0;31mIndexError\u001b[0m: list index out of range"
     ]
    }
   ],
   "source": [
    "# This will result in an error\n",
    "print(number_list[6])"
   ]
  },
  {
   "cell_type": "markdown",
   "metadata": {},
   "source": [
    "Like 1D `numpy` arrays, we can use \"slice\" notation to extract a range of list entries."
   ]
  },
  {
   "cell_type": "code",
   "execution_count": 45,
   "metadata": {},
   "outputs": [
    {
     "data": {
      "text/plain": [
       "[0, 10, 20]"
      ]
     },
     "execution_count": 45,
     "metadata": {},
     "output_type": "execute_result"
    }
   ],
   "source": [
    "# extract the elements at indices 0, 1, 2 (but not 3)\n",
    "number_list[0:3]"
   ]
  },
  {
   "cell_type": "code",
   "execution_count": 46,
   "metadata": {},
   "outputs": [
    {
     "data": {
      "text/plain": [
       "[30, 40, 50]"
      ]
     },
     "execution_count": 46,
     "metadata": {},
     "output_type": "execute_result"
    }
   ],
   "source": [
    "# extract the elements at indices 3, 4, 5 (but not 6, since there is no element at index 6)\n",
    "number_list[3:6]"
   ]
  },
  {
   "cell_type": "markdown",
   "metadata": {},
   "source": [
    "In general, `number_list[m:n]` will extract `n-m` elements, starting and including the element at position `m`.\n",
    "\n",
    "All of this applies to any Python list:"
   ]
  },
  {
   "cell_type": "code",
   "execution_count": 47,
   "metadata": {},
   "outputs": [
    {
     "data": {
      "text/plain": [
       "['A', 'B', 'CDEFG']"
      ]
     },
     "execution_count": 47,
     "metadata": {},
     "output_type": "execute_result"
    }
   ],
   "source": [
    "list_list[1]"
   ]
  },
  {
   "cell_type": "code",
   "execution_count": 48,
   "metadata": {},
   "outputs": [
    {
     "data": {
      "text/plain": [
       "['B', 'CDEFG']"
      ]
     },
     "execution_count": 48,
     "metadata": {},
     "output_type": "execute_result"
    }
   ],
   "source": [
    "string_list[1:3]"
   ]
  },
  {
   "cell_type": "code",
   "execution_count": 49,
   "metadata": {},
   "outputs": [
    {
     "data": {
      "text/plain": [
       "[[1, 2, 3], [4, 5, 6]]"
      ]
     },
     "execution_count": 49,
     "metadata": {},
     "output_type": "execute_result"
    }
   ],
   "source": [
    "list_2d = [ [1, 2, 3], [4, 5, 6], [7, 8, 9]]\n",
    "list_2d[0:2]"
   ]
  },
  {
   "cell_type": "markdown",
   "metadata": {},
   "source": [
    "Unlike `numpy` 2D arrays, we can't use the notation `arr[i,j]` to get the `j`-th element of the `i`-th list of a list of lists."
   ]
  },
  {
   "cell_type": "code",
   "execution_count": 50,
   "metadata": {},
   "outputs": [
    {
     "ename": "TypeError",
     "evalue": "list indices must be integers or slices, not tuple",
     "output_type": "error",
     "traceback": [
      "\u001b[0;31m---------------------------------------------------------------------------\u001b[0m",
      "\u001b[0;31mTypeError\u001b[0m                                 Traceback (most recent call last)",
      "\u001b[0;32m<ipython-input-50-5aaca0eef931>\u001b[0m in \u001b[0;36m<module>\u001b[0;34m()\u001b[0m\n\u001b[1;32m      1\u001b[0m \u001b[0;31m# this results in an error\u001b[0m\u001b[0;34m\u001b[0m\u001b[0;34m\u001b[0m\u001b[0m\n\u001b[0;32m----> 2\u001b[0;31m \u001b[0mlist_2d\u001b[0m\u001b[0;34m[\u001b[0m\u001b[0;36m0\u001b[0m\u001b[0;34m,\u001b[0m \u001b[0;36m2\u001b[0m\u001b[0;34m]\u001b[0m\u001b[0;34m\u001b[0m\u001b[0m\n\u001b[0m",
      "\u001b[0;31mTypeError\u001b[0m: list indices must be integers or slices, not tuple"
     ]
    }
   ],
   "source": [
    "# this results in an error\n",
    "list_2d[0, 2]"
   ]
  },
  {
   "cell_type": "code",
   "execution_count": 51,
   "metadata": {},
   "outputs": [
    {
     "data": {
      "text/plain": [
       "3"
      ]
     },
     "execution_count": 51,
     "metadata": {},
     "output_type": "execute_result"
    }
   ],
   "source": [
    "# instead you have to use\n",
    "list_2d[0][2]"
   ]
  },
  {
   "cell_type": "code",
   "execution_count": 52,
   "metadata": {},
   "outputs": [
    {
     "data": {
      "text/plain": [
       "[1, 2, 3]"
      ]
     },
     "execution_count": 52,
     "metadata": {},
     "output_type": "execute_result"
    }
   ],
   "source": [
    "# that is get the 0-th list of list_2d, then get the 2-nd element of that list\n",
    "list_2d[0]"
   ]
  },
  {
   "cell_type": "markdown",
   "metadata": {},
   "source": [
    "## Adding and removing elements to a list\n",
    "\n",
    "* Given a list, you can add an element to the end of the list using the `.append()` function:"
   ]
  },
  {
   "cell_type": "code",
   "execution_count": 53,
   "metadata": {},
   "outputs": [
    {
     "name": "stdout",
     "output_type": "stream",
     "text": [
      "[0, 10, 20, 30, 40, 50, 10]\n"
     ]
    }
   ],
   "source": [
    "number_list.append(10)\n",
    "print(number_list)"
   ]
  },
  {
   "cell_type": "markdown",
   "metadata": {},
   "source": [
    "* You can remove an element using the `.remove(x)` function. It will remove the first instance of `x` in the list."
   ]
  },
  {
   "cell_type": "code",
   "execution_count": 54,
   "metadata": {},
   "outputs": [
    {
     "name": "stdout",
     "output_type": "stream",
     "text": [
      "[0, 20, 30, 40, 50, 10]\n"
     ]
    }
   ],
   "source": [
    "number_list.remove(10)\n",
    "print(number_list)"
   ]
  },
  {
   "cell_type": "markdown",
   "metadata": {},
   "source": [
    "* You can remove and return an element at index i using the `.pop(i)` function. If you don't specify `i`, it will remove the last element, so in that sense, it's the opposite of the `.append()` function."
   ]
  },
  {
   "cell_type": "code",
   "execution_count": 55,
   "metadata": {},
   "outputs": [
    {
     "name": "stdout",
     "output_type": "stream",
     "text": [
      "[0, 20, 30, 40, 50]\n",
      "10\n"
     ]
    }
   ],
   "source": [
    "el = number_list.pop()\n",
    "print(number_list)\n",
    "print(el)"
   ]
  },
  {
   "cell_type": "markdown",
   "metadata": {},
   "source": [
    "## List comprehensions\n",
    "\n",
    "List comprehensions are a powerful way of creating lists. Consider the following `for`-loop to calculate the squares of all numbers between 0 and 9:"
   ]
  },
  {
   "cell_type": "code",
   "execution_count": 56,
   "metadata": {},
   "outputs": [
    {
     "name": "stdout",
     "output_type": "stream",
     "text": [
      "[0, 1, 4, 9, 16, 25, 36, 49, 64, 81]\n"
     ]
    }
   ],
   "source": [
    "squares = []\n",
    "for i in range(10):\n",
    "    squares.append(i**2)\n",
    "print(squares)"
   ]
  },
  {
   "cell_type": "markdown",
   "metadata": {},
   "source": [
    "An alternative way to do this is to use **list comprehensions**:"
   ]
  },
  {
   "cell_type": "code",
   "execution_count": 57,
   "metadata": {},
   "outputs": [
    {
     "name": "stdout",
     "output_type": "stream",
     "text": [
      "[0, 1, 4, 9, 16, 25, 36, 49, 64, 81]\n"
     ]
    }
   ],
   "source": [
    "squares2 = [i**2 for i in range(10)]\n",
    "print(squares2)"
   ]
  },
  {
   "cell_type": "markdown",
   "metadata": {},
   "source": [
    "List comprehensions are a consise way of building up lists. Because of its consiseness, it is considered more \"**Pythonic**\".\n",
    "\n",
    "List comprehensions can be nested, like nested for loops. Consider the following nested loop to create a list of lists:"
   ]
  },
  {
   "cell_type": "code",
   "execution_count": 58,
   "metadata": {},
   "outputs": [
    {
     "name": "stdout",
     "output_type": "stream",
     "text": [
      "[[0, 0, 0, 0], [0, 1, 2, 3], [0, 2, 4, 6], [0, 3, 6, 9]]\n"
     ]
    }
   ],
   "source": [
    "products = []\n",
    "for i in range(4):\n",
    "    products_i = []\n",
    "    for j in range(4):\n",
    "        products_i.append(i*j)\n",
    "    products.append(products_i)\n",
    "    \n",
    "print(products)"
   ]
  },
  {
   "cell_type": "code",
   "execution_count": 59,
   "metadata": {},
   "outputs": [
    {
     "name": "stdout",
     "output_type": "stream",
     "text": [
      "[[0, 0, 0, 0], [0, 1, 2, 3], [0, 2, 4, 6], [0, 3, 6, 9]]\n"
     ]
    }
   ],
   "source": [
    "products2 = [ [i*j for j in range(4)] for i in range(4)]\n",
    "print(products2)"
   ]
  },
  {
   "cell_type": "markdown",
   "metadata": {},
   "source": [
    "The elements that go into the list (e.g. `i**2` or `i*j`) can be any valid python code. Typically this code will use `i` or `j` in some way.\n",
    "\n",
    "The use of `range(4)` can be replaced by anything that can be iterated over. In addition to ranges, you could use other lists or even `numpy` arrays."
   ]
  },
  {
   "cell_type": "markdown",
   "metadata": {},
   "source": [
    "### Exercise\n",
    "\n",
    "For 10 equally spaced values $x_i$ between 0 and $2\\pi$, form the a list of lists representing the design matrix\n",
    "\n",
    "$$\\Phi_{i,j} = \\sin(j\\cdot x_i) $$\n",
    "\n",
    "for $j = 0, 1, ..., 3.$\n",
    "\n",
    "That is your list `Phi_list` should be a list-of-list where the `j`-th entry of the `i`-th list is `Phi_list[i][j] = sin(j*x_i)`."
   ]
  },
  {
   "cell_type": "code",
   "execution_count": 60,
   "metadata": {},
   "outputs": [],
   "source": [
    "Phi_list = [ [np.sin(j*x_i) for j in range(4)] for x_i in np.linspace(0, np.pi, 10)]"
   ]
  },
  {
   "cell_type": "markdown",
   "metadata": {},
   "source": [
    "Because `numpy` arrays can be built from Python arrays, list comprehensions can be used to consisely specify `numpy` arrays."
   ]
  },
  {
   "cell_type": "code",
   "execution_count": 61,
   "metadata": {},
   "outputs": [
    {
     "name": "stdout",
     "output_type": "stream",
     "text": [
      "[[ 0.00000000e+00  0.00000000e+00  0.00000000e+00  0.00000000e+00]\n",
      " [ 0.00000000e+00  3.42020143e-01  6.42787610e-01  8.66025404e-01]\n",
      " [ 0.00000000e+00  6.42787610e-01  9.84807753e-01  8.66025404e-01]\n",
      " [ 0.00000000e+00  8.66025404e-01  8.66025404e-01  1.22464680e-16]\n",
      " [ 0.00000000e+00  9.84807753e-01  3.42020143e-01 -8.66025404e-01]\n",
      " [ 0.00000000e+00  9.84807753e-01 -3.42020143e-01 -8.66025404e-01]\n",
      " [ 0.00000000e+00  8.66025404e-01 -8.66025404e-01 -2.44929360e-16]\n",
      " [ 0.00000000e+00  6.42787610e-01 -9.84807753e-01  8.66025404e-01]\n",
      " [ 0.00000000e+00  3.42020143e-01 -6.42787610e-01  8.66025404e-01]\n",
      " [ 0.00000000e+00  1.22464680e-16 -2.44929360e-16  3.67394040e-16]]\n"
     ]
    }
   ],
   "source": [
    "Phi = np.array(Phi_list)\n",
    "print(Phi)"
   ]
  },
  {
   "cell_type": "markdown",
   "metadata": {},
   "source": [
    "Consider the following loop:"
   ]
  },
  {
   "cell_type": "code",
   "execution_count": 62,
   "metadata": {},
   "outputs": [
    {
     "name": "stdout",
     "output_type": "stream",
     "text": [
      "['i', 'b', 'c', 'd']\n"
     ]
    }
   ],
   "source": [
    "bad_words = ['a', 'f', 's']\n",
    "\n",
    "user_post = ['i', 'f', 'b', 'c', 's', 'd', 'a']\n",
    "\n",
    "filtered_post = []\n",
    "for word in user_post:\n",
    "    if word not in bad_words:\n",
    "        filtered_post.append(word)\n",
    "        \n",
    "print(filtered_post)\n"
   ]
  },
  {
   "cell_type": "markdown",
   "metadata": {},
   "source": [
    "We can construct `filtered_post` with a list comprehension using the **`if` clause**"
   ]
  },
  {
   "cell_type": "code",
   "execution_count": 63,
   "metadata": {},
   "outputs": [
    {
     "name": "stdout",
     "output_type": "stream",
     "text": [
      "['i', 'b', 'c', 'd']\n"
     ]
    }
   ],
   "source": [
    "filtered_post = [word for word in user_post if word not in bad_words]\n",
    "\n",
    "print(filtered_post)"
   ]
  },
  {
   "cell_type": "markdown",
   "metadata": {},
   "source": [
    "The `if` clause in a list comprehension specifies a filter on the items in `user_post` to include in the final list. Here we're saying to add `word` to the list for the `word` in `user_post` that satisfies the condition `not in bad_words`.\n",
    "\n",
    "In general list comprehensions take the form:\n",
    "`my_list = [ f(x) for x in A if c(x) ]`\n",
    "\n",
    "where `f(x)` is some transformation or other function that depends on `x`, `A` is the set of all `x` that can possibly be included in the list, and `c(x)` is some boolean expression determines whether to include `x` in the list."
   ]
  },
  {
   "cell_type": "markdown",
   "metadata": {},
   "source": [
    "### Exercise\n",
    "Load the dataset in `lec6.txt`. This dataset contains rows with missing data - some of the entries will be *Not-a-Number* (`NaN`). Use a list comprehension to filter out the data that contains missing entries. For a `numpy` array, you can use the condition `np.any(np.isnan(x))` check if any entries are `NaN`."
   ]
  },
  {
   "cell_type": "code",
   "execution_count": 64,
   "metadata": {},
   "outputs": [],
   "source": [
    "data = np.loadtxt('lec6.txt')\n",
    "\n",
    "filtered_data = [x for x in data if not np.any(np.isnan(x))]"
   ]
  },
  {
   "cell_type": "markdown",
   "metadata": {},
   "source": [
    "### The 1D random walk using list comprehensions\n",
    "\n",
    "If we notice that the final position of the 1D random walk after $n$ steps is the sum of $n$ Bernoulli random variables that take on values $\\left\\{-s, s\\right\\}$, we can calculate the distribution of final positions after $n$ steps using list comprehensions."
   ]
  },
  {
   "cell_type": "code",
   "execution_count": null,
   "metadata": {},
   "outputs": [],
   "source": [
    "n = 1000\n",
    "s = 1\n",
    "m = 500\n",
    "\n",
    "# Perform m random walks, each having n steps\n",
    "R = [ np.sum( [s*bernoulli_rv(0.5) for j in range(n)] ) for i in range(m)]\n",
    "\n",
    "print(\"mean = \" + str(np.mean(R)))\n",
    "print(\"var = \" + str(np.var(R)))\n",
    "plt.hist(R)"
   ]
  },
  {
   "cell_type": "markdown",
   "metadata": {},
   "source": [
    "This actually consists of two list comprehensions.\n",
    "\n",
    "The inner comprehension:\n",
    "\n",
    "```\n",
    "[s*bernoulli_rv(0.5) for j in range(n)]\n",
    "```\n",
    "\n",
    "creates a list of $n$ numbers in $\\left\\{-s, s\\right\\}$. \n",
    "\n",
    "We then take the sum of these values to get the final position:\n",
    "\n",
    "```\n",
    "np.sum( [s*bernoulli_rv(0.5) for j in range(n)] )\n",
    "```\n",
    "\n",
    "This is the result of a single random walk. We want to do `m` of them, so we form a list of `m` such sums:\n",
    "\n",
    "```\n",
    "[ np.sum( [s*bernoulli_rv(0.5) for j in range(n)] ) for i in range(m)]\n",
    "```"
   ]
  }
 ],
 "metadata": {
  "kernelspec": {
   "display_name": "Python 3",
   "language": "python",
   "name": "python3"
  },
  "language_info": {
   "codemirror_mode": {
    "name": "ipython",
    "version": 3
   },
   "file_extension": ".py",
   "mimetype": "text/x-python",
   "name": "python",
   "nbconvert_exporter": "python",
   "pygments_lexer": "ipython3",
   "version": "3.6.5"
  }
 },
 "nbformat": 4,
 "nbformat_minor": 2
}
