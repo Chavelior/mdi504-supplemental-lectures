{
 "cells": [
  {
   "cell_type": "markdown",
   "metadata": {},
   "source": [
    "## Python Programming Lecture 1: Data types and variables\n",
    "\n",
    "The goal of this lecture is to teach you how to store data and information in Python data structures.\n",
    "\n",
    "\n",
    "### Printing\n",
    "***\n",
    "The built-in Python function `print` lets us print things to screen."
   ]
  },
  {
   "cell_type": "code",
   "execution_count": null,
   "metadata": {},
   "outputs": [],
   "source": [
    "print(\"Hello World\")"
   ]
  },
  {
   "cell_type": "markdown",
   "metadata": {},
   "source": [
    "The `print` command is an example of a Python **function**. To use - or **call** - a Python function, you need to supply the function name and whatever inputs -- or **function arguments** -- that function is expecting. These function arguments are enclosed in parentheses.\n",
    "\n",
    "In the above example, `print` is the function name, and the `print` function takes in 1 argument, which is a **String**, or a sequence of characters enclosed in quotation marks.\n"
   ]
  },
  {
   "cell_type": "markdown",
   "metadata": {},
   "source": [
    "#### EXERCISE 1 \n",
    "***\n",
    "Print \"Hello World, my name is (your name here)\" using the `print` function."
   ]
  },
  {
   "cell_type": "code",
   "execution_count": null,
   "metadata": {},
   "outputs": [],
   "source": [
    "# EXERCISE 1 Solution:\n",
    "\n"
   ]
  },
  {
   "cell_type": "markdown",
   "metadata": {},
   "source": [
    "By the way, whenever a line starts with the # sign, it is treated as a comment, and is ignored by Python. So line in the above exercise \n",
    "\n",
    "`# EXERCISE 1 Solution:`\n",
    "\n",
    "doesn't get executed."
   ]
  },
  {
   "cell_type": "markdown",
   "metadata": {},
   "source": [
    "### Arithmetic\n",
    "***\n",
    "You can use Python as a calculator to do arithmetic. The arithmetic operations include\n",
    "* Addition: +\n",
    "* Subtraction: -\n",
    "* Multiplication: *\n",
    "* Division: /\n",
    "* Parenthesis: ()\n",
    "* Exponentiation: **\n",
    "\n",
    "For example to calculate\n",
    "\n",
    "$\\left(2 - \\frac{5}{3+1}\\right)^4$\n",
    "\n",
    "you would do:\n"
   ]
  },
  {
   "cell_type": "code",
   "execution_count": null,
   "metadata": {},
   "outputs": [],
   "source": [
    "(2 - 5/(3+1))**4"
   ]
  },
  {
   "cell_type": "markdown",
   "metadata": {},
   "source": [
    "(By the way, notice that we didn't have to use the `print` function to get the output of the arithmetic operations. This is a quirk/feature of Jupyter - it will print the result of the last operation in a cell.)"
   ]
  },
  {
   "cell_type": "markdown",
   "metadata": {},
   "source": [
    "#### EXERCISE 2  \n",
    "***\n",
    "Calculate the Golden Ratio\n",
    "\n",
    "$\\frac{1 + \\sqrt{5}}{2}$"
   ]
  },
  {
   "cell_type": "code",
   "execution_count": null,
   "metadata": {},
   "outputs": [],
   "source": [
    "# EXERCISE 2 Solution:\n",
    "\n"
   ]
  },
  {
   "cell_type": "markdown",
   "metadata": {},
   "source": [
    "### Arithmetic on Strings\n",
    "***\n",
    "We have so far seen two different kinds - or **classes** - of data types, the String data type and the Number data type. We have seen that we can perform arithmetic on the Number data type, but we actually can perform arithmetic on the String data type as well."
   ]
  },
  {
   "cell_type": "code",
   "execution_count": null,
   "metadata": {},
   "outputs": [],
   "source": [
    "print(\"Hello\" + \" \" + \"world\")"
   ]
  },
  {
   "cell_type": "code",
   "execution_count": null,
   "metadata": {},
   "outputs": [],
   "source": [
    "print(\"Around the world \"*10)"
   ]
  },
  {
   "cell_type": "markdown",
   "metadata": {},
   "source": [
    "Not all operations are supported on Strings however:"
   ]
  },
  {
   "cell_type": "code",
   "execution_count": null,
   "metadata": {},
   "outputs": [],
   "source": [
    "print(\"This makes no sense\"/4)"
   ]
  },
  {
   "cell_type": "markdown",
   "metadata": {},
   "source": [
    "When you do something that the Python interpreter can't make sense of, it will complain by throwing an error, like above. You should get used to reading these error message:\n",
    "\n",
    "``TypeError: unsupported operand type(s) for /: 'str' and 'int'``\n",
    "\n",
    "The error message says the you can't divide a string by an integer."
   ]
  },
  {
   "cell_type": "markdown",
   "metadata": {},
   "source": [
    "** EXERCISE 3 **\n",
    "\n",
    "What other arithmetic operations are supported beween stings and strings, and between strings and integers?\n"
   ]
  },
  {
   "cell_type": "code",
   "execution_count": null,
   "metadata": {
    "scrolled": true
   },
   "outputs": [],
   "source": [
    "# EXERCISE 3 Solution:\n",
    "\n"
   ]
  },
  {
   "cell_type": "markdown",
   "metadata": {},
   "source": [
    "### Variables\n",
    "***\n",
    "Variables can be used to store values or the results of an operation. "
   ]
  },
  {
   "cell_type": "code",
   "execution_count": null,
   "metadata": {},
   "outputs": [],
   "source": [
    "first_str = \"Hello \"\n",
    "second_str = \"World!\"\n",
    "\n",
    "print(first_str)\n",
    "print(second_str)\n",
    "print(first_str + second_str)\n"
   ]
  },
  {
   "cell_type": "markdown",
   "metadata": {},
   "source": [
    "Above, we defined 2 variables called `first_str` and `second_str` and initialized them with string values using the `=` operator. We can treat these variables the same way we treated strings before, because they are strings!"
   ]
  },
  {
   "cell_type": "markdown",
   "metadata": {},
   "source": [
    "#### EXERCISE 4 \n",
    "***\n",
    "Define a new string called `combined_str`, and using `first_str`, `second_str`, your name and the `+` operator, set the value of `combined_str` to be:\n",
    "\n",
    "\"(Your Name), Hello World!\"."
   ]
  },
  {
   "cell_type": "code",
   "execution_count": null,
   "metadata": {},
   "outputs": [],
   "source": [
    "# EXERCISE 4 Solution:\n",
    "\n"
   ]
  },
  {
   "cell_type": "markdown",
   "metadata": {},
   "source": [
    "#### EXERCISE 5 \n",
    "***\n",
    "Store the golden ratio $\\phi$ in a variable named `phi`. Calculate the following:\n",
    "\n",
    "$$\\phi^2 - \\phi - 1$$\n"
   ]
  },
  {
   "cell_type": "code",
   "execution_count": null,
   "metadata": {},
   "outputs": [],
   "source": [
    "# EXERCISE 5 Solution:\n",
    "\n"
   ]
  },
  {
   "cell_type": "markdown",
   "metadata": {},
   "source": [
    "### Naming rules for variables\n",
    "***\n",
    "There are several naming rules and conventions when it comes to variable names. For now, the rules for variable names are;\n",
    "\n",
    "* They must only contain letters, numbers and the underscore _ symbol.\n",
    "* They can't start with a number\n",
    "* They are case-sensitive (so that `phi` and `Phi` are different)\n",
    "* They cannot be one of the reservered words in Python\n",
    "\n",
    "Reserved words (also known as Keywords) can be found here:\n",
    "\n",
    "https://docs.python.org/3/reference/lexical_analysis.html#keywords\n"
   ]
  },
  {
   "cell_type": "markdown",
   "metadata": {},
   "source": [
    "Note, you can use variables to define other variables:"
   ]
  },
  {
   "cell_type": "code",
   "execution_count": null,
   "metadata": {},
   "outputs": [],
   "source": [
    "x = 2\n",
    "y = 4\n",
    "z = x + y\n",
    "w = 2*x - y\n",
    "\n",
    "print(z)\n",
    "print(w)"
   ]
  },
  {
   "cell_type": "markdown",
   "metadata": {},
   "source": [
    "### Type Coersion\n",
    "***\n",
    "So far we've been working with strings and numbers. This is actually a bit of a misnomer. To see why, we can use the built-in Python function `type`, which takes any python object (like a string or number) and returns its type.\n"
   ]
  },
  {
   "cell_type": "code",
   "execution_count": 32,
   "metadata": {},
   "outputs": [
    {
     "name": "stdout",
     "output_type": "stream",
     "text": [
      "<class 'str'>\n",
      "<class 'int'>\n",
      "<class 'float'>\n"
     ]
    }
   ],
   "source": [
    "str_type = type(\"Hello world!\")\n",
    "num1_type = type(2)\n",
    "num2_type = type(4/2)\n",
    "\n",
    "print(str_type)\n",
    "print(num1_type)\n",
    "print(num2_type)"
   ]
  },
  {
   "cell_type": "markdown",
   "metadata": {},
   "source": [
    "(By the way, the `type` function is the first function we've encountered that returned an output, namely the type of its single input argument. When we say `str_type = type(\"Hello World\")`, Python will execute the `type` function, return the type as output, and this will become stored in the `str_type` variable. So there's actually a lot going on in this single line.)"
   ]
  },
  {
   "cell_type": "markdown",
   "metadata": {},
   "source": [
    "#### EXERCISE 6\n",
    "***\n",
    "What's the type of the number 2.0 (including the decimal place)?"
   ]
  },
  {
   "cell_type": "code",
   "execution_count": 33,
   "metadata": {},
   "outputs": [],
   "source": [
    "# EXERCISE 6 Solution:\n",
    "\n"
   ]
  },
  {
   "cell_type": "markdown",
   "metadata": {},
   "source": [
    "---\n",
    "\n",
    "So as we've seen, we've actually been working with the Python data types called `str`, `int` and `float`. Python is actually smart enough to convert between these different data types using the corresponding `str()`, `int()` and `float()` functions. (*These are actually called **constructors** for the `str`, `int` and `float` **classes**, but we'll get to that later.*)\n",
    "\n",
    "For example, the `str()` function takes 1 argument, and converts that argument to a `str` data type. The same is true for `int()` and `float()` functions."
   ]
  },
  {
   "cell_type": "code",
   "execution_count": 34,
   "metadata": {},
   "outputs": [
    {
     "name": "stdout",
     "output_type": "stream",
     "text": [
      "35\n",
      "<class 'int'>\n",
      "35\n",
      "<class 'str'>\n"
     ]
    }
   ],
   "source": [
    "num = 35\n",
    "num_str = str(num)\n",
    "\n",
    "print(num)\n",
    "print(type(num))\n",
    "\n",
    "print(num_str)\n",
    "print(type(num_str))"
   ]
  },
  {
   "cell_type": "markdown",
   "metadata": {},
   "source": [
    "#### EXERCISE 7\n",
    "***\n",
    "Convert a 5.5 to an `int`. What do you notice?\n",
    "\n",
    "Convert a string to an `float`. What kinds of strings work?"
   ]
  },
  {
   "cell_type": "code",
   "execution_count": 35,
   "metadata": {},
   "outputs": [],
   "source": [
    "# EXERCISE 7 Solution:\n",
    "\n"
   ]
  },
  {
   "cell_type": "markdown",
   "metadata": {},
   "source": [
    "### Other data types\n",
    "***\n",
    "So far we've encountered the `str`, `int` and `float` data type. In fact, we've encountered a fourth: the `type` data type, which is a data type to describe data types, and is the type of output from the `type()` function.\n",
    "\n"
   ]
  },
  {
   "cell_type": "code",
   "execution_count": 41,
   "metadata": {},
   "outputs": [
    {
     "name": "stdout",
     "output_type": "stream",
     "text": [
      "<class 'type'>\n"
     ]
    }
   ],
   "source": [
    "num_type = type(2)\n",
    "\n",
    "# what kind of data type is returned by the type function itself?\n",
    "print(type(num_type))"
   ]
  },
  {
   "cell_type": "markdown",
   "metadata": {},
   "source": [
    "There are other built-in data types in Python. These include:\n",
    "\n",
    "1. Booleans (type `bool`): Either `True` or `False`\n",
    "2. Lists (type `list`): These are an ordered sequence of values, like an array.\n",
    "3. Dictionaries (type `dict`): These are an unordered collection of (key, value) pairs."
   ]
  },
  {
   "cell_type": "code",
   "execution_count": 42,
   "metadata": {},
   "outputs": [
    {
     "name": "stdout",
     "output_type": "stream",
     "text": [
      "<class 'bool'>\n",
      "<class 'list'>\n",
      "<class 'dict'>\n"
     ]
    }
   ],
   "source": [
    "# Boolean Type\n",
    "my_bool = True\n",
    "bool_type = type(my_bool)\n",
    "print(bool_type)\n",
    "\n",
    "# List type\n",
    "my_list = [1, 2, 3]\n",
    "list_type = type(my_list)\n",
    "print(list_type)\n",
    "\n",
    "# Dictionary type\n",
    "my_dict = {\n",
    "    'name': 'Kris',\n",
    "    'class': 'MDI504'\n",
    "}\n",
    "dict_type = type(my_dict)\n",
    "print(dict_type)"
   ]
  },
  {
   "cell_type": "markdown",
   "metadata": {},
   "source": [
    "We'll go through these data times in more depth in later sections."
   ]
  }
 ],
 "metadata": {
  "kernelspec": {
   "display_name": "Python 3",
   "language": "python",
   "name": "python3"
  },
  "language_info": {
   "codemirror_mode": {
    "name": "ipython",
    "version": 3
   },
   "file_extension": ".py",
   "mimetype": "text/x-python",
   "name": "python",
   "nbconvert_exporter": "python",
   "pygments_lexer": "ipython3",
   "version": "3.6.5"
  }
 },
 "nbformat": 4,
 "nbformat_minor": 2
}
